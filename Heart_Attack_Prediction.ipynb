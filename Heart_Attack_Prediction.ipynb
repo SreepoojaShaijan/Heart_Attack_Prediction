{
 "cells": [
  {
   "cell_type": "markdown",
   "id": "ce8e099e",
   "metadata": {},
   "source": [
    "# Importing Necessary Libraries\n",
    "Plotting Libraries"
   ]
  },
  {
   "cell_type": "code",
   "execution_count": 1,
   "id": "9fc8f633",
   "metadata": {},
   "outputs": [],
   "source": [
    "import pandas as pd\n",
    "import numpy as np\n",
    "import matplotlib.pyplot as plt\n",
    "import seaborn as sns\n",
    "#import copy\n",
    "%matplotlib inline"
   ]
  },
  {
   "cell_type": "code",
   "execution_count": 2,
   "id": "b93118d2",
   "metadata": {},
   "outputs": [],
   "source": [
    "#Metrics for Classification technique\n",
    "from sklearn.metrics import classification_report,confusion_matrix,accuracy_score\n",
    "from sklearn.model_selection import KFold,cross_val_score\n",
    "\n",
    "#Scaler\n",
    "from sklearn.preprocessing import StandardScaler\n",
    "from sklearn.model_selection import  RandomizedSearchCV, train_test_split\n",
    "\n",
    "#Model building\n",
    "from sklearn.tree import DecisionTreeClassifier\n",
    "from sklearn.ensemble import RandomForestClassifier\n",
    "from sklearn.neighbors import KNeighborsClassifier\n"
   ]
  },
  {
   "cell_type": "markdown",
   "id": "6de22325",
   "metadata": {},
   "source": [
    "# Data Loading"
   ]
  },
  {
   "cell_type": "markdown",
   "id": "1ba0f015",
   "metadata": {},
   "source": [
    "Importing Data"
   ]
  },
  {
   "cell_type": "code",
   "execution_count": 3,
   "id": "8e451098",
   "metadata": {},
   "outputs": [
    {
     "data": {
      "text/html": [
       "<div>\n",
       "<style scoped>\n",
       "    .dataframe tbody tr th:only-of-type {\n",
       "        vertical-align: middle;\n",
       "    }\n",
       "\n",
       "    .dataframe tbody tr th {\n",
       "        vertical-align: top;\n",
       "    }\n",
       "\n",
       "    .dataframe thead th {\n",
       "        text-align: right;\n",
       "    }\n",
       "</style>\n",
       "<table border=\"1\" class=\"dataframe\">\n",
       "  <thead>\n",
       "    <tr style=\"text-align: right;\">\n",
       "      <th></th>\n",
       "      <th>age</th>\n",
       "      <th>sex</th>\n",
       "      <th>chest pain type</th>\n",
       "      <th>resting bp s</th>\n",
       "      <th>cholesterol</th>\n",
       "      <th>fasting blood sugar</th>\n",
       "      <th>resting ecg</th>\n",
       "      <th>max heart rate</th>\n",
       "      <th>exercise angina</th>\n",
       "      <th>oldpeak</th>\n",
       "      <th>ST slope</th>\n",
       "      <th>target</th>\n",
       "    </tr>\n",
       "  </thead>\n",
       "  <tbody>\n",
       "    <tr>\n",
       "      <th>0</th>\n",
       "      <td>40</td>\n",
       "      <td>1</td>\n",
       "      <td>2</td>\n",
       "      <td>140</td>\n",
       "      <td>289</td>\n",
       "      <td>0</td>\n",
       "      <td>0</td>\n",
       "      <td>172</td>\n",
       "      <td>0</td>\n",
       "      <td>0.0</td>\n",
       "      <td>1</td>\n",
       "      <td>0</td>\n",
       "    </tr>\n",
       "    <tr>\n",
       "      <th>1</th>\n",
       "      <td>49</td>\n",
       "      <td>0</td>\n",
       "      <td>3</td>\n",
       "      <td>160</td>\n",
       "      <td>180</td>\n",
       "      <td>0</td>\n",
       "      <td>0</td>\n",
       "      <td>156</td>\n",
       "      <td>0</td>\n",
       "      <td>1.0</td>\n",
       "      <td>2</td>\n",
       "      <td>1</td>\n",
       "    </tr>\n",
       "    <tr>\n",
       "      <th>2</th>\n",
       "      <td>37</td>\n",
       "      <td>1</td>\n",
       "      <td>2</td>\n",
       "      <td>130</td>\n",
       "      <td>283</td>\n",
       "      <td>0</td>\n",
       "      <td>1</td>\n",
       "      <td>98</td>\n",
       "      <td>0</td>\n",
       "      <td>0.0</td>\n",
       "      <td>1</td>\n",
       "      <td>0</td>\n",
       "    </tr>\n",
       "    <tr>\n",
       "      <th>3</th>\n",
       "      <td>48</td>\n",
       "      <td>0</td>\n",
       "      <td>4</td>\n",
       "      <td>138</td>\n",
       "      <td>214</td>\n",
       "      <td>0</td>\n",
       "      <td>0</td>\n",
       "      <td>108</td>\n",
       "      <td>1</td>\n",
       "      <td>1.5</td>\n",
       "      <td>2</td>\n",
       "      <td>1</td>\n",
       "    </tr>\n",
       "    <tr>\n",
       "      <th>4</th>\n",
       "      <td>54</td>\n",
       "      <td>1</td>\n",
       "      <td>3</td>\n",
       "      <td>150</td>\n",
       "      <td>195</td>\n",
       "      <td>0</td>\n",
       "      <td>0</td>\n",
       "      <td>122</td>\n",
       "      <td>0</td>\n",
       "      <td>0.0</td>\n",
       "      <td>1</td>\n",
       "      <td>0</td>\n",
       "    </tr>\n",
       "    <tr>\n",
       "      <th>5</th>\n",
       "      <td>39</td>\n",
       "      <td>1</td>\n",
       "      <td>3</td>\n",
       "      <td>120</td>\n",
       "      <td>339</td>\n",
       "      <td>0</td>\n",
       "      <td>0</td>\n",
       "      <td>170</td>\n",
       "      <td>0</td>\n",
       "      <td>0.0</td>\n",
       "      <td>1</td>\n",
       "      <td>0</td>\n",
       "    </tr>\n",
       "  </tbody>\n",
       "</table>\n",
       "</div>"
      ],
      "text/plain": [
       "   age  sex  chest pain type  resting bp s  cholesterol  fasting blood sugar  \\\n",
       "0   40    1                2           140          289                    0   \n",
       "1   49    0                3           160          180                    0   \n",
       "2   37    1                2           130          283                    0   \n",
       "3   48    0                4           138          214                    0   \n",
       "4   54    1                3           150          195                    0   \n",
       "5   39    1                3           120          339                    0   \n",
       "\n",
       "   resting ecg  max heart rate  exercise angina  oldpeak  ST slope  target  \n",
       "0            0             172                0      0.0         1       0  \n",
       "1            0             156                0      1.0         2       1  \n",
       "2            1              98                0      0.0         1       0  \n",
       "3            0             108                1      1.5         2       1  \n",
       "4            0             122                0      0.0         1       0  \n",
       "5            0             170                0      0.0         1       0  "
      ]
     },
     "execution_count": 3,
     "metadata": {},
     "output_type": "execute_result"
    }
   ],
   "source": [
    "data = pd.read_csv(\"heart_statlog_cleveland_hungary_final.csv\")\n",
    "data.head(6) # Mention no of rows to be displayed from the top in the argument"
   ]
  },
  {
   "cell_type": "markdown",
   "id": "7aad7b17",
   "metadata": {},
   "source": [
    "Dataset description\n",
    "\n",
    "\n",
    "This dataset consists of 11 features and a target variable. It has 6 nominal variables and 5 numeric variables. The detailed description of all the features are as follows:\n",
    "\n",
    "1. Age: Patients Age in years (Numeric)\n",
    "2. Sex: Gender of patient (Male - 1, Female - 0) (Nominal)\n",
    "3. Chest Pain Type: Type of chest pain experienced by patient categorized into 1 typical, 2 typical angina, 3 non- anginal pain, 4 asymptomatic (Nominal)\n",
    "4. resting bp s: Level of blood pressure at resting mode in mm/HG (Numerical)\n",
    "5. cholestrol: Serum cholestrol in mg/dl (Numeric)\n",
    "6. fasting blood sugar: Blood sugar levels on fasting > 120 mg/dl represents as 1 in case of true and 0 as false (Nominal)\n",
    "7. resting ecg: Result of electrocardiogram while at rest are represented in 3 distinct values 0 : Normal 1: Abnormality in ST-T wave 2: Left ventricular hypertrophy (Nominal)\n",
    "8. max heart rate: Maximum heart rate achieved (Numeric)\n",
    "9. exercise angina: Angina induced by exercise 0 depicting NO 1 depicting Yes (Nominal)\n",
    "10. oldpeak: Exercise induced ST-depression in comparison with the state of rest (Numeric)\n",
    "11. ST slope: ST segment measured in terms of slope during peak exercise 0: Normal 1: Upsloping 2: Flat 3: Downsloping (Nominal)\n",
    "\n",
    "Target variable\n",
    "\n",
    "12. target: It is the target variable which we have to predict 1 means patient is suffering from heart risk and 0 means patient is normal."
   ]
  },
  {
   "cell_type": "markdown",
   "id": "3b2b42e6",
   "metadata": {},
   "source": [
    "# Exploratory Data Analysis\n",
    "1. Understanding Dataset and its shape"
   ]
  },
  {
   "cell_type": "code",
   "execution_count": 4,
   "id": "233fb68d",
   "metadata": {},
   "outputs": [
    {
     "data": {
      "text/plain": [
       "(1190, 12)"
      ]
     },
     "execution_count": 4,
     "metadata": {},
     "output_type": "execute_result"
    }
   ],
   "source": [
    "data.shape"
   ]
  },
  {
   "cell_type": "markdown",
   "id": "acb24544",
   "metadata": {},
   "source": [
    "Inference: We have a dataset with 1190 rows which indicates a smaller set of data."
   ]
  },
  {
   "cell_type": "markdown",
   "id": "9498eb75",
   "metadata": {},
   "source": [
    "2. Checking the datatype of each column"
   ]
  },
  {
   "cell_type": "code",
   "execution_count": 5,
   "id": "cd93b266",
   "metadata": {},
   "outputs": [
    {
     "data": {
      "text/plain": [
       "age                      int64\n",
       "sex                      int64\n",
       "chest pain type          int64\n",
       "resting bp s             int64\n",
       "cholesterol              int64\n",
       "fasting blood sugar      int64\n",
       "resting ecg              int64\n",
       "max heart rate           int64\n",
       "exercise angina          int64\n",
       "oldpeak                float64\n",
       "ST slope                 int64\n",
       "target                   int64\n",
       "dtype: object"
      ]
     },
     "execution_count": 5,
     "metadata": {},
     "output_type": "execute_result"
    }
   ],
   "source": [
    "data.dtypes"
   ]
  },
  {
   "cell_type": "markdown",
   "id": "4acaa4da",
   "metadata": {},
   "source": [
    "Inference: The inference we can derive from the above output is:\n",
    "\n",
    "Out of 12 features, we have 11 int types and only one with the float data types."
   ]
  },
  {
   "cell_type": "markdown",
   "id": "b47e47bf",
   "metadata": {},
   "source": [
    "3. Categorical and Numerical Column."
   ]
  },
  {
   "cell_type": "markdown",
   "id": "59840b80",
   "metadata": {},
   "source": [
    "Inference : The datatype of all columns are Numerical."
   ]
  },
  {
   "cell_type": "markdown",
   "id": "19285052",
   "metadata": {},
   "source": [
    "4. Checking Missing Values"
   ]
  },
  {
   "cell_type": "code",
   "execution_count": 6,
   "id": "52e4a545",
   "metadata": {},
   "outputs": [
    {
     "data": {
      "text/plain": [
       "age                    0\n",
       "sex                    0\n",
       "chest pain type        0\n",
       "resting bp s           0\n",
       "cholesterol            0\n",
       "fasting blood sugar    0\n",
       "resting ecg            0\n",
       "max heart rate         0\n",
       "exercise angina        0\n",
       "oldpeak                0\n",
       "ST slope               0\n",
       "target                 0\n",
       "dtype: int64"
      ]
     },
     "execution_count": 6,
     "metadata": {},
     "output_type": "execute_result"
    }
   ],
   "source": [
    "data.isnull().sum()"
   ]
  },
  {
   "cell_type": "markdown",
   "id": "3d634d7b",
   "metadata": {},
   "source": [
    "There is no missing values in the dataset. "
   ]
  },
  {
   "cell_type": "markdown",
   "id": "7b190a8d",
   "metadata": {},
   "source": [
    "# STATISTICAL SUMMARY"
   ]
  },
  {
   "cell_type": "markdown",
   "id": "a0a45fc2",
   "metadata": {},
   "source": [
    "5. Statistical summary of data"
   ]
  },
  {
   "cell_type": "code",
   "execution_count": 7,
   "id": "1fd0e8d9",
   "metadata": {},
   "outputs": [
    {
     "data": {
      "text/html": [
       "<div>\n",
       "<style scoped>\n",
       "    .dataframe tbody tr th:only-of-type {\n",
       "        vertical-align: middle;\n",
       "    }\n",
       "\n",
       "    .dataframe tbody tr th {\n",
       "        vertical-align: top;\n",
       "    }\n",
       "\n",
       "    .dataframe thead th {\n",
       "        text-align: right;\n",
       "    }\n",
       "</style>\n",
       "<table border=\"1\" class=\"dataframe\">\n",
       "  <thead>\n",
       "    <tr style=\"text-align: right;\">\n",
       "      <th></th>\n",
       "      <th>age</th>\n",
       "      <th>sex</th>\n",
       "      <th>chest pain type</th>\n",
       "      <th>resting bp s</th>\n",
       "      <th>cholesterol</th>\n",
       "      <th>fasting blood sugar</th>\n",
       "      <th>resting ecg</th>\n",
       "      <th>max heart rate</th>\n",
       "      <th>exercise angina</th>\n",
       "      <th>oldpeak</th>\n",
       "      <th>ST slope</th>\n",
       "      <th>target</th>\n",
       "    </tr>\n",
       "  </thead>\n",
       "  <tbody>\n",
       "    <tr>\n",
       "      <th>count</th>\n",
       "      <td>1190.000000</td>\n",
       "      <td>1190.000000</td>\n",
       "      <td>1190.000000</td>\n",
       "      <td>1190.000000</td>\n",
       "      <td>1190.000000</td>\n",
       "      <td>1190.000000</td>\n",
       "      <td>1190.000000</td>\n",
       "      <td>1190.000000</td>\n",
       "      <td>1190.000000</td>\n",
       "      <td>1190.000000</td>\n",
       "      <td>1190.000000</td>\n",
       "      <td>1190.000000</td>\n",
       "    </tr>\n",
       "    <tr>\n",
       "      <th>mean</th>\n",
       "      <td>53.720168</td>\n",
       "      <td>0.763866</td>\n",
       "      <td>3.232773</td>\n",
       "      <td>132.153782</td>\n",
       "      <td>210.363866</td>\n",
       "      <td>0.213445</td>\n",
       "      <td>0.698319</td>\n",
       "      <td>139.732773</td>\n",
       "      <td>0.387395</td>\n",
       "      <td>0.922773</td>\n",
       "      <td>1.624370</td>\n",
       "      <td>0.528571</td>\n",
       "    </tr>\n",
       "    <tr>\n",
       "      <th>std</th>\n",
       "      <td>9.358203</td>\n",
       "      <td>0.424884</td>\n",
       "      <td>0.935480</td>\n",
       "      <td>18.368823</td>\n",
       "      <td>101.420489</td>\n",
       "      <td>0.409912</td>\n",
       "      <td>0.870359</td>\n",
       "      <td>25.517636</td>\n",
       "      <td>0.487360</td>\n",
       "      <td>1.086337</td>\n",
       "      <td>0.610459</td>\n",
       "      <td>0.499393</td>\n",
       "    </tr>\n",
       "    <tr>\n",
       "      <th>min</th>\n",
       "      <td>28.000000</td>\n",
       "      <td>0.000000</td>\n",
       "      <td>1.000000</td>\n",
       "      <td>0.000000</td>\n",
       "      <td>0.000000</td>\n",
       "      <td>0.000000</td>\n",
       "      <td>0.000000</td>\n",
       "      <td>60.000000</td>\n",
       "      <td>0.000000</td>\n",
       "      <td>-2.600000</td>\n",
       "      <td>0.000000</td>\n",
       "      <td>0.000000</td>\n",
       "    </tr>\n",
       "    <tr>\n",
       "      <th>25%</th>\n",
       "      <td>47.000000</td>\n",
       "      <td>1.000000</td>\n",
       "      <td>3.000000</td>\n",
       "      <td>120.000000</td>\n",
       "      <td>188.000000</td>\n",
       "      <td>0.000000</td>\n",
       "      <td>0.000000</td>\n",
       "      <td>121.000000</td>\n",
       "      <td>0.000000</td>\n",
       "      <td>0.000000</td>\n",
       "      <td>1.000000</td>\n",
       "      <td>0.000000</td>\n",
       "    </tr>\n",
       "    <tr>\n",
       "      <th>50%</th>\n",
       "      <td>54.000000</td>\n",
       "      <td>1.000000</td>\n",
       "      <td>4.000000</td>\n",
       "      <td>130.000000</td>\n",
       "      <td>229.000000</td>\n",
       "      <td>0.000000</td>\n",
       "      <td>0.000000</td>\n",
       "      <td>140.500000</td>\n",
       "      <td>0.000000</td>\n",
       "      <td>0.600000</td>\n",
       "      <td>2.000000</td>\n",
       "      <td>1.000000</td>\n",
       "    </tr>\n",
       "    <tr>\n",
       "      <th>75%</th>\n",
       "      <td>60.000000</td>\n",
       "      <td>1.000000</td>\n",
       "      <td>4.000000</td>\n",
       "      <td>140.000000</td>\n",
       "      <td>269.750000</td>\n",
       "      <td>0.000000</td>\n",
       "      <td>2.000000</td>\n",
       "      <td>160.000000</td>\n",
       "      <td>1.000000</td>\n",
       "      <td>1.600000</td>\n",
       "      <td>2.000000</td>\n",
       "      <td>1.000000</td>\n",
       "    </tr>\n",
       "    <tr>\n",
       "      <th>max</th>\n",
       "      <td>77.000000</td>\n",
       "      <td>1.000000</td>\n",
       "      <td>4.000000</td>\n",
       "      <td>200.000000</td>\n",
       "      <td>603.000000</td>\n",
       "      <td>1.000000</td>\n",
       "      <td>2.000000</td>\n",
       "      <td>202.000000</td>\n",
       "      <td>1.000000</td>\n",
       "      <td>6.200000</td>\n",
       "      <td>3.000000</td>\n",
       "      <td>1.000000</td>\n",
       "    </tr>\n",
       "  </tbody>\n",
       "</table>\n",
       "</div>"
      ],
      "text/plain": [
       "               age          sex  chest pain type  resting bp s  cholesterol  \\\n",
       "count  1190.000000  1190.000000      1190.000000   1190.000000  1190.000000   \n",
       "mean     53.720168     0.763866         3.232773    132.153782   210.363866   \n",
       "std       9.358203     0.424884         0.935480     18.368823   101.420489   \n",
       "min      28.000000     0.000000         1.000000      0.000000     0.000000   \n",
       "25%      47.000000     1.000000         3.000000    120.000000   188.000000   \n",
       "50%      54.000000     1.000000         4.000000    130.000000   229.000000   \n",
       "75%      60.000000     1.000000         4.000000    140.000000   269.750000   \n",
       "max      77.000000     1.000000         4.000000    200.000000   603.000000   \n",
       "\n",
       "       fasting blood sugar  resting ecg  max heart rate  exercise angina  \\\n",
       "count          1190.000000  1190.000000     1190.000000      1190.000000   \n",
       "mean              0.213445     0.698319      139.732773         0.387395   \n",
       "std               0.409912     0.870359       25.517636         0.487360   \n",
       "min               0.000000     0.000000       60.000000         0.000000   \n",
       "25%               0.000000     0.000000      121.000000         0.000000   \n",
       "50%               0.000000     0.000000      140.500000         0.000000   \n",
       "75%               0.000000     2.000000      160.000000         1.000000   \n",
       "max               1.000000     2.000000      202.000000         1.000000   \n",
       "\n",
       "           oldpeak     ST slope       target  \n",
       "count  1190.000000  1190.000000  1190.000000  \n",
       "mean      0.922773     1.624370     0.528571  \n",
       "std       1.086337     0.610459     0.499393  \n",
       "min      -2.600000     0.000000     0.000000  \n",
       "25%       0.000000     1.000000     0.000000  \n",
       "50%       0.600000     2.000000     1.000000  \n",
       "75%       1.600000     2.000000     1.000000  \n",
       "max       6.200000     3.000000     1.000000  "
      ]
     },
     "execution_count": 7,
     "metadata": {},
     "output_type": "execute_result"
    }
   ],
   "source": [
    "data.describe()"
   ]
  },
  {
   "cell_type": "markdown",
   "id": "07d12742",
   "metadata": {},
   "source": [
    "Skewness=>\n",
    "\n",
    "Positively skewed data (mean>median) 5 columns\n",
    "\n",
    "resting bp s, fasting blood sugar, resting ecg, excercise angina, old peak\n",
    "\n",
    "Negatively skewed data (mean<median) 7 column\n",
    "\n",
    "age, sex, chest pain type, cholesterol, max heart rate, ST slope, target\n",
    "\n",
    "\n",
    "\n",
    "Inference:- The dataset contains more Negatively skewed data."
   ]
  },
  {
   "cell_type": "markdown",
   "id": "1d31dd57",
   "metadata": {},
   "source": [
    "6. Check the correlation between various features. - CORRELATION MATRIX"
   ]
  },
  {
   "cell_type": "code",
   "execution_count": 8,
   "id": "2499d51d",
   "metadata": {},
   "outputs": [
    {
     "data": {
      "image/png": "[encoded data removed]",
      "text/plain": [
       "<Figure size 1440x864 with 2 Axes>"
      ]
     },
     "metadata": {
      "needs_background": "light"
     },
     "output_type": "display_data"
    }
   ],
   "source": [
    "plt.figure(figsize=(20,12))\n",
    "sns.set_context('notebook',font_scale = 1.3)\n",
    "sns.heatmap(data.corr(),annot=True,linewidth =2)\n",
    "plt.tight_layout()"
   ]
  },
  {
   "cell_type": "markdown",
   "id": "2b57057a",
   "metadata": {},
   "source": [
    "Check the correlation of the target variable."
   ]
  },
  {
   "cell_type": "code",
   "execution_count": 9,
   "id": "f71d8ad7",
   "metadata": {},
   "outputs": [
    {
     "data": {
      "image/png": "[encoded data removed]",
      "text/plain": [
       "<Figure size 1440x720 with 1 Axes>"
      ]
     },
     "metadata": {
      "needs_background": "light"
     },
     "output_type": "display_data"
    }
   ],
   "source": [
    "sns.set_context('notebook',font_scale = 2.3)\n",
    "data.drop('target', axis=1).corrwith(data.target).plot(kind='bar', grid=True, figsize=(20, 10), \n",
    "                                                        title=\"Correlation with the target feature\")\n",
    "plt.tight_layout()"
   ]
  },
  {
   "cell_type": "markdown",
   "id": "8fd5bca1",
   "metadata": {},
   "source": [
    "Inference: Insights from the above graph are:\n",
    "\n",
    "1. Two features( “cholesterol”, “max heart rate” ) are negatively correlated with the target feature.\n",
    "2. Other features are positively correlated with the target feature."
   ]
  },
  {
   "cell_type": "markdown",
   "id": "fa31c529",
   "metadata": {},
   "source": [
    "# Analysis of the individual features which comprises both univariate and bivariate analysis."
   ]
  },
  {
   "cell_type": "code",
   "execution_count": 10,
   "id": "92e57192",
   "metadata": {},
   "outputs": [],
   "source": [
    "dt=data.copy()"
   ]
  },
  {
   "cell_type": "code",
   "execution_count": 11,
   "id": "cc3c48f8",
   "metadata": {},
   "outputs": [
    {
     "name": "stderr",
     "output_type": "stream",
     "text": [
      "<ipython-input-11-60b654dfa575>:3: SettingWithCopyWarning: \n",
      "A value is trying to be set on a copy of a slice from a DataFrame\n",
      "\n",
      "See the caveats in the documentation: https://pandas.pydata.org/pandas-docs/stable/user_guide/indexing.html#returning-a-view-versus-a-copy\n",
      "  dt['chest pain type'][dt['chest pain type'] == 1] = 'typical angina'\n",
      "<ipython-input-11-60b654dfa575>:10: SettingWithCopyWarning: \n",
      "A value is trying to be set on a copy of a slice from a DataFrame\n",
      "\n",
      "See the caveats in the documentation: https://pandas.pydata.org/pandas-docs/stable/user_guide/indexing.html#returning-a-view-versus-a-copy\n",
      "  dt['resting ecg'][dt['resting ecg'] == 0] = 'normal'\n",
      "<ipython-input-11-60b654dfa575>:15: SettingWithCopyWarning: \n",
      "A value is trying to be set on a copy of a slice from a DataFrame\n",
      "\n",
      "See the caveats in the documentation: https://pandas.pydata.org/pandas-docs/stable/user_guide/indexing.html#returning-a-view-versus-a-copy\n",
      "  dt['ST slope'][dt['ST slope'] == 0] = 'normal'\n"
     ]
    }
   ],
   "source": [
    "# converting features to categorical features \n",
    "\n",
    "dt['chest pain type'][dt['chest pain type'] == 1] = 'typical angina'\n",
    "dt['chest pain type'][dt['chest pain type'] == 2] = 'atypical angina'\n",
    "dt['chest pain type'][dt['chest pain type'] == 3] = 'non-anginal pain'\n",
    "dt['chest pain type'][dt['chest pain type'] == 4] = 'asymptomatic'\n",
    "\n",
    "\n",
    "\n",
    "dt['resting ecg'][dt['resting ecg'] == 0] = 'normal'\n",
    "dt['resting ecg'][dt['resting ecg'] == 1] = 'ST-T wave abnormality'\n",
    "dt['resting ecg'][dt['resting ecg'] == 2] = 'left ventricular hypertrophy'\n",
    "\n",
    "\n",
    "dt['ST slope'][dt['ST slope'] == 0] = 'normal'\n",
    "dt['ST slope'][dt['ST slope'] == 1] = 'upsloping'\n",
    "dt['ST slope'][dt['ST slope'] == 2] = 'flat'\n",
    "dt['ST slope'][dt['ST slope'] == 3] = 'downsloping'\n",
    "\n",
    "dt[\"sex\"] = dt.sex.apply(lambda  x:'male' if x==1 else 'female')"
   ]
  },
  {
   "cell_type": "code",
   "execution_count": 12,
   "id": "ad8ecd9e",
   "metadata": {},
   "outputs": [
    {
     "data": {
      "text/html": [
       "<div>\n",
       "<style scoped>\n",
       "    .dataframe tbody tr th:only-of-type {\n",
       "        vertical-align: middle;\n",
       "    }\n",
       "\n",
       "    .dataframe tbody tr th {\n",
       "        vertical-align: top;\n",
       "    }\n",
       "\n",
       "    .dataframe thead th {\n",
       "        text-align: right;\n",
       "    }\n",
       "</style>\n",
       "<table border=\"1\" class=\"dataframe\">\n",
       "  <thead>\n",
       "    <tr style=\"text-align: right;\">\n",
       "      <th></th>\n",
       "      <th>age</th>\n",
       "      <th>sex</th>\n",
       "      <th>chest pain type</th>\n",
       "      <th>resting bp s</th>\n",
       "      <th>cholesterol</th>\n",
       "      <th>fasting blood sugar</th>\n",
       "      <th>resting ecg</th>\n",
       "      <th>max heart rate</th>\n",
       "      <th>exercise angina</th>\n",
       "      <th>oldpeak</th>\n",
       "      <th>ST slope</th>\n",
       "      <th>target</th>\n",
       "    </tr>\n",
       "  </thead>\n",
       "  <tbody>\n",
       "    <tr>\n",
       "      <th>0</th>\n",
       "      <td>40</td>\n",
       "      <td>1</td>\n",
       "      <td>2</td>\n",
       "      <td>140</td>\n",
       "      <td>289</td>\n",
       "      <td>0</td>\n",
       "      <td>0</td>\n",
       "      <td>172</td>\n",
       "      <td>0</td>\n",
       "      <td>0.0</td>\n",
       "      <td>1</td>\n",
       "      <td>0</td>\n",
       "    </tr>\n",
       "    <tr>\n",
       "      <th>1</th>\n",
       "      <td>49</td>\n",
       "      <td>0</td>\n",
       "      <td>3</td>\n",
       "      <td>160</td>\n",
       "      <td>180</td>\n",
       "      <td>0</td>\n",
       "      <td>0</td>\n",
       "      <td>156</td>\n",
       "      <td>0</td>\n",
       "      <td>1.0</td>\n",
       "      <td>2</td>\n",
       "      <td>1</td>\n",
       "    </tr>\n",
       "    <tr>\n",
       "      <th>2</th>\n",
       "      <td>37</td>\n",
       "      <td>1</td>\n",
       "      <td>2</td>\n",
       "      <td>130</td>\n",
       "      <td>283</td>\n",
       "      <td>0</td>\n",
       "      <td>1</td>\n",
       "      <td>98</td>\n",
       "      <td>0</td>\n",
       "      <td>0.0</td>\n",
       "      <td>1</td>\n",
       "      <td>0</td>\n",
       "    </tr>\n",
       "    <tr>\n",
       "      <th>3</th>\n",
       "      <td>48</td>\n",
       "      <td>0</td>\n",
       "      <td>4</td>\n",
       "      <td>138</td>\n",
       "      <td>214</td>\n",
       "      <td>0</td>\n",
       "      <td>0</td>\n",
       "      <td>108</td>\n",
       "      <td>1</td>\n",
       "      <td>1.5</td>\n",
       "      <td>2</td>\n",
       "      <td>1</td>\n",
       "    </tr>\n",
       "    <tr>\n",
       "      <th>4</th>\n",
       "      <td>54</td>\n",
       "      <td>1</td>\n",
       "      <td>3</td>\n",
       "      <td>150</td>\n",
       "      <td>195</td>\n",
       "      <td>0</td>\n",
       "      <td>0</td>\n",
       "      <td>122</td>\n",
       "      <td>0</td>\n",
       "      <td>0.0</td>\n",
       "      <td>1</td>\n",
       "      <td>0</td>\n",
       "    </tr>\n",
       "    <tr>\n",
       "      <th>...</th>\n",
       "      <td>...</td>\n",
       "      <td>...</td>\n",
       "      <td>...</td>\n",
       "      <td>...</td>\n",
       "      <td>...</td>\n",
       "      <td>...</td>\n",
       "      <td>...</td>\n",
       "      <td>...</td>\n",
       "      <td>...</td>\n",
       "      <td>...</td>\n",
       "      <td>...</td>\n",
       "      <td>...</td>\n",
       "    </tr>\n",
       "    <tr>\n",
       "      <th>1185</th>\n",
       "      <td>45</td>\n",
       "      <td>1</td>\n",
       "      <td>1</td>\n",
       "      <td>110</td>\n",
       "      <td>264</td>\n",
       "      <td>0</td>\n",
       "      <td>0</td>\n",
       "      <td>132</td>\n",
       "      <td>0</td>\n",
       "      <td>1.2</td>\n",
       "      <td>2</td>\n",
       "      <td>1</td>\n",
       "    </tr>\n",
       "    <tr>\n",
       "      <th>1186</th>\n",
       "      <td>68</td>\n",
       "      <td>1</td>\n",
       "      <td>4</td>\n",
       "      <td>144</td>\n",
       "      <td>193</td>\n",
       "      <td>1</td>\n",
       "      <td>0</td>\n",
       "      <td>141</td>\n",
       "      <td>0</td>\n",
       "      <td>3.4</td>\n",
       "      <td>2</td>\n",
       "      <td>1</td>\n",
       "    </tr>\n",
       "    <tr>\n",
       "      <th>1187</th>\n",
       "      <td>57</td>\n",
       "      <td>1</td>\n",
       "      <td>4</td>\n",
       "      <td>130</td>\n",
       "      <td>131</td>\n",
       "      <td>0</td>\n",
       "      <td>0</td>\n",
       "      <td>115</td>\n",
       "      <td>1</td>\n",
       "      <td>1.2</td>\n",
       "      <td>2</td>\n",
       "      <td>1</td>\n",
       "    </tr>\n",
       "    <tr>\n",
       "      <th>1188</th>\n",
       "      <td>57</td>\n",
       "      <td>0</td>\n",
       "      <td>2</td>\n",
       "      <td>130</td>\n",
       "      <td>236</td>\n",
       "      <td>0</td>\n",
       "      <td>2</td>\n",
       "      <td>174</td>\n",
       "      <td>0</td>\n",
       "      <td>0.0</td>\n",
       "      <td>2</td>\n",
       "      <td>1</td>\n",
       "    </tr>\n",
       "    <tr>\n",
       "      <th>1189</th>\n",
       "      <td>38</td>\n",
       "      <td>1</td>\n",
       "      <td>3</td>\n",
       "      <td>138</td>\n",
       "      <td>175</td>\n",
       "      <td>0</td>\n",
       "      <td>0</td>\n",
       "      <td>173</td>\n",
       "      <td>0</td>\n",
       "      <td>0.0</td>\n",
       "      <td>1</td>\n",
       "      <td>0</td>\n",
       "    </tr>\n",
       "  </tbody>\n",
       "</table>\n",
       "<p>1190 rows × 12 columns</p>\n",
       "</div>"
      ],
      "text/plain": [
       "      age  sex  chest pain type  resting bp s  cholesterol  \\\n",
       "0      40    1                2           140          289   \n",
       "1      49    0                3           160          180   \n",
       "2      37    1                2           130          283   \n",
       "3      48    0                4           138          214   \n",
       "4      54    1                3           150          195   \n",
       "...   ...  ...              ...           ...          ...   \n",
       "1185   45    1                1           110          264   \n",
       "1186   68    1                4           144          193   \n",
       "1187   57    1                4           130          131   \n",
       "1188   57    0                2           130          236   \n",
       "1189   38    1                3           138          175   \n",
       "\n",
       "      fasting blood sugar  resting ecg  max heart rate  exercise angina  \\\n",
       "0                       0            0             172                0   \n",
       "1                       0            0             156                0   \n",
       "2                       0            1              98                0   \n",
       "3                       0            0             108                1   \n",
       "4                       0            0             122                0   \n",
       "...                   ...          ...             ...              ...   \n",
       "1185                    0            0             132                0   \n",
       "1186                    1            0             141                0   \n",
       "1187                    0            0             115                1   \n",
       "1188                    0            2             174                0   \n",
       "1189                    0            0             173                0   \n",
       "\n",
       "      oldpeak  ST slope  target  \n",
       "0         0.0         1       0  \n",
       "1         1.0         2       1  \n",
       "2         0.0         1       0  \n",
       "3         1.5         2       1  \n",
       "4         0.0         1       0  \n",
       "...       ...       ...     ...  \n",
       "1185      1.2         2       1  \n",
       "1186      3.4         2       1  \n",
       "1187      1.2         2       1  \n",
       "1188      0.0         2       1  \n",
       "1189      0.0         1       0  \n",
       "\n",
       "[1190 rows x 12 columns]"
      ]
     },
     "execution_count": 12,
     "metadata": {},
     "output_type": "execute_result"
    }
   ],
   "source": [
    "data"
   ]
  },
  {
   "cell_type": "code",
   "execution_count": 13,
   "id": "96486422",
   "metadata": {},
   "outputs": [
    {
     "data": {
      "text/html": [
       "<div>\n",
       "<style scoped>\n",
       "    .dataframe tbody tr th:only-of-type {\n",
       "        vertical-align: middle;\n",
       "    }\n",
       "\n",
       "    .dataframe tbody tr th {\n",
       "        vertical-align: top;\n",
       "    }\n",
       "\n",
       "    .dataframe thead th {\n",
       "        text-align: right;\n",
       "    }\n",
       "</style>\n",
       "<table border=\"1\" class=\"dataframe\">\n",
       "  <thead>\n",
       "    <tr style=\"text-align: right;\">\n",
       "      <th></th>\n",
       "      <th>age</th>\n",
       "      <th>sex</th>\n",
       "      <th>chest pain type</th>\n",
       "      <th>resting bp s</th>\n",
       "      <th>cholesterol</th>\n",
       "      <th>fasting blood sugar</th>\n",
       "      <th>resting ecg</th>\n",
       "      <th>max heart rate</th>\n",
       "      <th>exercise angina</th>\n",
       "      <th>oldpeak</th>\n",
       "      <th>ST slope</th>\n",
       "      <th>target</th>\n",
       "    </tr>\n",
       "  </thead>\n",
       "  <tbody>\n",
       "    <tr>\n",
       "      <th>0</th>\n",
       "      <td>40</td>\n",
       "      <td>male</td>\n",
       "      <td>atypical angina</td>\n",
       "      <td>140</td>\n",
       "      <td>289</td>\n",
       "      <td>0</td>\n",
       "      <td>normal</td>\n",
       "      <td>172</td>\n",
       "      <td>0</td>\n",
       "      <td>0.0</td>\n",
       "      <td>upsloping</td>\n",
       "      <td>0</td>\n",
       "    </tr>\n",
       "    <tr>\n",
       "      <th>1</th>\n",
       "      <td>49</td>\n",
       "      <td>female</td>\n",
       "      <td>non-anginal pain</td>\n",
       "      <td>160</td>\n",
       "      <td>180</td>\n",
       "      <td>0</td>\n",
       "      <td>normal</td>\n",
       "      <td>156</td>\n",
       "      <td>0</td>\n",
       "      <td>1.0</td>\n",
       "      <td>flat</td>\n",
       "      <td>1</td>\n",
       "    </tr>\n",
       "    <tr>\n",
       "      <th>2</th>\n",
       "      <td>37</td>\n",
       "      <td>male</td>\n",
       "      <td>atypical angina</td>\n",
       "      <td>130</td>\n",
       "      <td>283</td>\n",
       "      <td>0</td>\n",
       "      <td>ST-T wave abnormality</td>\n",
       "      <td>98</td>\n",
       "      <td>0</td>\n",
       "      <td>0.0</td>\n",
       "      <td>upsloping</td>\n",
       "      <td>0</td>\n",
       "    </tr>\n",
       "    <tr>\n",
       "      <th>3</th>\n",
       "      <td>48</td>\n",
       "      <td>female</td>\n",
       "      <td>asymptomatic</td>\n",
       "      <td>138</td>\n",
       "      <td>214</td>\n",
       "      <td>0</td>\n",
       "      <td>normal</td>\n",
       "      <td>108</td>\n",
       "      <td>1</td>\n",
       "      <td>1.5</td>\n",
       "      <td>flat</td>\n",
       "      <td>1</td>\n",
       "    </tr>\n",
       "    <tr>\n",
       "      <th>4</th>\n",
       "      <td>54</td>\n",
       "      <td>male</td>\n",
       "      <td>non-anginal pain</td>\n",
       "      <td>150</td>\n",
       "      <td>195</td>\n",
       "      <td>0</td>\n",
       "      <td>normal</td>\n",
       "      <td>122</td>\n",
       "      <td>0</td>\n",
       "      <td>0.0</td>\n",
       "      <td>upsloping</td>\n",
       "      <td>0</td>\n",
       "    </tr>\n",
       "    <tr>\n",
       "      <th>...</th>\n",
       "      <td>...</td>\n",
       "      <td>...</td>\n",
       "      <td>...</td>\n",
       "      <td>...</td>\n",
       "      <td>...</td>\n",
       "      <td>...</td>\n",
       "      <td>...</td>\n",
       "      <td>...</td>\n",
       "      <td>...</td>\n",
       "      <td>...</td>\n",
       "      <td>...</td>\n",
       "      <td>...</td>\n",
       "    </tr>\n",
       "    <tr>\n",
       "      <th>1185</th>\n",
       "      <td>45</td>\n",
       "      <td>male</td>\n",
       "      <td>typical angina</td>\n",
       "      <td>110</td>\n",
       "      <td>264</td>\n",
       "      <td>0</td>\n",
       "      <td>normal</td>\n",
       "      <td>132</td>\n",
       "      <td>0</td>\n",
       "      <td>1.2</td>\n",
       "      <td>flat</td>\n",
       "      <td>1</td>\n",
       "    </tr>\n",
       "    <tr>\n",
       "      <th>1186</th>\n",
       "      <td>68</td>\n",
       "      <td>male</td>\n",
       "      <td>asymptomatic</td>\n",
       "      <td>144</td>\n",
       "      <td>193</td>\n",
       "      <td>1</td>\n",
       "      <td>normal</td>\n",
       "      <td>141</td>\n",
       "      <td>0</td>\n",
       "      <td>3.4</td>\n",
       "      <td>flat</td>\n",
       "      <td>1</td>\n",
       "    </tr>\n",
       "    <tr>\n",
       "      <th>1187</th>\n",
       "      <td>57</td>\n",
       "      <td>male</td>\n",
       "      <td>asymptomatic</td>\n",
       "      <td>130</td>\n",
       "      <td>131</td>\n",
       "      <td>0</td>\n",
       "      <td>normal</td>\n",
       "      <td>115</td>\n",
       "      <td>1</td>\n",
       "      <td>1.2</td>\n",
       "      <td>flat</td>\n",
       "      <td>1</td>\n",
       "    </tr>\n",
       "    <tr>\n",
       "      <th>1188</th>\n",
       "      <td>57</td>\n",
       "      <td>female</td>\n",
       "      <td>atypical angina</td>\n",
       "      <td>130</td>\n",
       "      <td>236</td>\n",
       "      <td>0</td>\n",
       "      <td>left ventricular hypertrophy</td>\n",
       "      <td>174</td>\n",
       "      <td>0</td>\n",
       "      <td>0.0</td>\n",
       "      <td>flat</td>\n",
       "      <td>1</td>\n",
       "    </tr>\n",
       "    <tr>\n",
       "      <th>1189</th>\n",
       "      <td>38</td>\n",
       "      <td>male</td>\n",
       "      <td>non-anginal pain</td>\n",
       "      <td>138</td>\n",
       "      <td>175</td>\n",
       "      <td>0</td>\n",
       "      <td>normal</td>\n",
       "      <td>173</td>\n",
       "      <td>0</td>\n",
       "      <td>0.0</td>\n",
       "      <td>upsloping</td>\n",
       "      <td>0</td>\n",
       "    </tr>\n",
       "  </tbody>\n",
       "</table>\n",
       "<p>1190 rows × 12 columns</p>\n",
       "</div>"
      ],
      "text/plain": [
       "      age     sex   chest pain type  resting bp s  cholesterol  \\\n",
       "0      40    male   atypical angina           140          289   \n",
       "1      49  female  non-anginal pain           160          180   \n",
       "2      37    male   atypical angina           130          283   \n",
       "3      48  female      asymptomatic           138          214   \n",
       "4      54    male  non-anginal pain           150          195   \n",
       "...   ...     ...               ...           ...          ...   \n",
       "1185   45    male    typical angina           110          264   \n",
       "1186   68    male      asymptomatic           144          193   \n",
       "1187   57    male      asymptomatic           130          131   \n",
       "1188   57  female   atypical angina           130          236   \n",
       "1189   38    male  non-anginal pain           138          175   \n",
       "\n",
       "      fasting blood sugar                   resting ecg  max heart rate  \\\n",
       "0                       0                        normal             172   \n",
       "1                       0                        normal             156   \n",
       "2                       0         ST-T wave abnormality              98   \n",
       "3                       0                        normal             108   \n",
       "4                       0                        normal             122   \n",
       "...                   ...                           ...             ...   \n",
       "1185                    0                        normal             132   \n",
       "1186                    1                        normal             141   \n",
       "1187                    0                        normal             115   \n",
       "1188                    0  left ventricular hypertrophy             174   \n",
       "1189                    0                        normal             173   \n",
       "\n",
       "      exercise angina  oldpeak   ST slope  target  \n",
       "0                   0      0.0  upsloping       0  \n",
       "1                   0      1.0       flat       1  \n",
       "2                   0      0.0  upsloping       0  \n",
       "3                   1      1.5       flat       1  \n",
       "4                   0      0.0  upsloping       0  \n",
       "...               ...      ...        ...     ...  \n",
       "1185                0      1.2       flat       1  \n",
       "1186                0      3.4       flat       1  \n",
       "1187                1      1.2       flat       1  \n",
       "1188                0      0.0       flat       1  \n",
       "1189                0      0.0  upsloping       0  \n",
       "\n",
       "[1190 rows x 12 columns]"
      ]
     },
     "execution_count": 13,
     "metadata": {},
     "output_type": "execute_result"
    }
   ],
   "source": [
    "dt"
   ]
  },
  {
   "cell_type": "markdown",
   "id": "e4c00c4a",
   "metadata": {},
   "source": [
    "# Age(“age”) Analysis\n",
    "Here we will be checking the 10 ages and their counts."
   ]
  },
  {
   "cell_type": "code",
   "execution_count": 14,
   "id": "56c015cf",
   "metadata": {},
   "outputs": [
    {
     "data": {
      "image/png": "[encoded data removed]",
      "text/plain": [
       "<Figure size 1800x864 with 1 Axes>"
      ]
     },
     "metadata": {
      "needs_background": "light"
     },
     "output_type": "display_data"
    }
   ],
   "source": [
    "plt.figure(figsize=(25,12))\n",
    "sns.set_context('notebook',font_scale = 1.5)\n",
    "sns.barplot(x=dt.age.value_counts()[:10].index,y=dt.age.value_counts()[:10].values)\n",
    "plt.tight_layout()"
   ]
  },
  {
   "cell_type": "markdown",
   "id": "1624f49a",
   "metadata": {},
   "source": [
    "Inference:  Here we can see that the 54 age column has the highest frequency."
   ]
  },
  {
   "cell_type": "markdown",
   "id": "dabd99ab",
   "metadata": {},
   "source": [
    "Check the range of age in the dataset."
   ]
  },
  {
   "cell_type": "code",
   "execution_count": 15,
   "id": "8f4b4f46",
   "metadata": {},
   "outputs": [
    {
     "name": "stdout",
     "output_type": "stream",
     "text": [
      "Min Age : 28\n",
      "Max Age : 77\n",
      "Mean Age : 53.72016806722689\n"
     ]
    }
   ],
   "source": [
    "minAge=min(data.age)\n",
    "maxAge=max(data.age)\n",
    "meanAge=data.age.mean()\n",
    "print('Min Age :',minAge)\n",
    "print('Max Age :',maxAge)\n",
    "print('Mean Age :',meanAge)"
   ]
  },
  {
   "cell_type": "markdown",
   "id": "1bfbf384",
   "metadata": {},
   "source": [
    "We should divide the Age feature into three parts – “Young”, “Middle” and “Elder”"
   ]
  },
  {
   "cell_type": "code",
   "execution_count": 16,
   "id": "82e8ece2",
   "metadata": {},
   "outputs": [
    {
     "data": {
      "image/png": "[encoded data removed]",
      "text/plain": [
       "<Figure size 1656x720 with 1 Axes>"
      ]
     },
     "metadata": {
      "needs_background": "light"
     },
     "output_type": "display_data"
    }
   ],
   "source": [
    "Young = dt[(dt.age>=29)&(dt.age<40)]\n",
    "Middle = dt[(dt.age>=40)&(dt.age<55)]\n",
    "Elder = dt[(dt.age>55)]\n",
    "\n",
    "plt.figure(figsize=(23,10))\n",
    "sns.set_context('notebook',font_scale = 1.5)\n",
    "sns.barplot(x=['young ages','middle ages','elderly ages'],y=[len(Young),len(Middle),len(Elder)])\n",
    "plt.tight_layout()"
   ]
  },
  {
   "cell_type": "markdown",
   "id": "9f1e5983",
   "metadata": {},
   "source": [
    "Inference: Here we can see that elder people are the most affected by heart disease and young ones are the least affected."
   ]
  },
  {
   "cell_type": "markdown",
   "id": "87e1fa51",
   "metadata": {},
   "source": [
    "To prove the above inference we will plot the pie chart."
   ]
  },
  {
   "cell_type": "code",
   "execution_count": 17,
   "id": "738557b1",
   "metadata": {},
   "outputs": [
    {
     "data": {
      "image/png": "[encoded data removed]",
      "text/plain": [
       "<Figure size 720x720 with 1 Axes>"
      ]
     },
     "metadata": {},
     "output_type": "display_data"
    }
   ],
   "source": [
    "colors = ['blue','green','yellow']\n",
    "explode = [0,0,0.1]\n",
    "plt.figure(figsize=(10,10))\n",
    "sns.set_context('notebook',font_scale = 1.2)\n",
    "plt.pie([len(Young),len(Middle),len(Elder)],labels=['young ages','middle ages','elderly ages'],explode=explode,colors=colors, autopct='%1.1f%%')\n",
    "plt.tight_layout()"
   ]
  },
  {
   "cell_type": "code",
   "execution_count": 18,
   "id": "2d7d1812",
   "metadata": {},
   "outputs": [
    {
     "name": "stderr",
     "output_type": "stream",
     "text": [
      "C:\\ProgramData\\Anaconda3\\lib\\site-packages\\seaborn\\distributions.py:2557: FutureWarning: `distplot` is a deprecated function and will be removed in a future version. Please adapt your code to use either `displot` (a figure-level function with similar flexibility) or `histplot` (an axes-level function for histograms).\n",
      "  warnings.warn(msg, FutureWarning)\n",
      "C:\\ProgramData\\Anaconda3\\lib\\site-packages\\seaborn\\distributions.py:2056: FutureWarning: The `axis` variable is no longer used and will be removed. Instead, assign variables directly to `x` or `y`.\n",
      "  warnings.warn(msg, FutureWarning)\n"
     ]
    },
    {
     "data": {
      "image/png": "[encoded data removed]",
      "text/plain": [
       "<Figure size 432x288 with 1 Axes>"
      ]
     },
     "metadata": {
      "needs_background": "light"
     },
     "output_type": "display_data"
    }
   ],
   "source": [
    "ax= sns.distplot(dt['age'], rug=True)\n",
    "plt.title(\"Age wise distribution\")\n",
    "plt.show()"
   ]
  },
  {
   "cell_type": "markdown",
   "id": "3e85048f",
   "metadata": {},
   "source": [
    "# Sex(“sex”) Feature Analysis"
   ]
  },
  {
   "cell_type": "code",
   "execution_count": 19,
   "id": "a42f077e",
   "metadata": {},
   "outputs": [
    {
     "name": "stderr",
     "output_type": "stream",
     "text": [
      "C:\\ProgramData\\Anaconda3\\lib\\site-packages\\seaborn\\_decorators.py:36: FutureWarning: Pass the following variable as a keyword arg: x. From version 0.12, the only valid positional argument will be `data`, and passing other arguments without an explicit keyword will result in an error or misinterpretation.\n",
      "  warnings.warn(\n"
     ]
    },
    {
     "data": {
      "image/png": "[encoded data removed]",
      "text/plain": [
       "<Figure size 1296x648 with 1 Axes>"
      ]
     },
     "metadata": {
      "needs_background": "light"
     },
     "output_type": "display_data"
    }
   ],
   "source": [
    "plt.figure(figsize=(18,9))\n",
    "sns.set_context('notebook',font_scale = 1.5)\n",
    "sns.countplot(dt['sex'])\n",
    "plt.tight_layout()"
   ]
  },
  {
   "cell_type": "code",
   "execution_count": 20,
   "id": "31fb243e",
   "metadata": {},
   "outputs": [
    {
     "name": "stderr",
     "output_type": "stream",
     "text": [
      "C:\\ProgramData\\Anaconda3\\lib\\site-packages\\seaborn\\distributions.py:2557: FutureWarning: `distplot` is a deprecated function and will be removed in a future version. Please adapt your code to use either `displot` (a figure-level function with similar flexibility) or `histplot` (an axes-level function for histograms).\n",
      "  warnings.warn(msg, FutureWarning)\n",
      "C:\\ProgramData\\Anaconda3\\lib\\site-packages\\seaborn\\_decorators.py:36: FutureWarning: Pass the following variable as a keyword arg: x. From version 0.12, the only valid positional argument will be `data`, and passing other arguments without an explicit keyword will result in an error or misinterpretation.\n",
      "  warnings.warn(\n"
     ]
    },
    {
     "data": {
      "image/png": "[encoded data removed]",
      "text/plain": [
       "<Figure size 1080x360 with 2 Axes>"
      ]
     },
     "metadata": {
      "needs_background": "light"
     },
     "output_type": "display_data"
    },
    {
     "name": "stderr",
     "output_type": "stream",
     "text": [
      "C:\\ProgramData\\Anaconda3\\lib\\site-packages\\seaborn\\distributions.py:2557: FutureWarning: `distplot` is a deprecated function and will be removed in a future version. Please adapt your code to use either `displot` (a figure-level function with similar flexibility) or `histplot` (an axes-level function for histograms).\n",
      "  warnings.warn(msg, FutureWarning)\n",
      "C:\\ProgramData\\Anaconda3\\lib\\site-packages\\seaborn\\_decorators.py:36: FutureWarning: Pass the following variable as a keyword arg: x. From version 0.12, the only valid positional argument will be `data`, and passing other arguments without an explicit keyword will result in an error or misinterpretation.\n",
      "  warnings.warn(\n"
     ]
    },
    {
     "data": {
      "image/png": "[encoded data removed]",
      "text/plain": [
       "<Figure size 1080x360 with 2 Axes>"
      ]
     },
     "metadata": {
      "needs_background": "light"
     },
     "output_type": "display_data"
    }
   ],
   "source": [
    "attr_1=dt[dt['target']==1]\n",
    "attr_0=dt[dt['target']==0]\n",
    "fig = plt.figure(figsize=(15,5))\n",
    "ax1 = plt.subplot2grid((1,2),(0,0))\n",
    "sns.distplot(attr_0['age'])\n",
    "plt.title('AGE DISTRIBUTION OF NORMAL PATIENTS', fontsize=15, weight='bold')\n",
    "\n",
    "ax1 = plt.subplot2grid((1,2),(0,1))\n",
    "sns.countplot(attr_0['sex'], palette='viridis')\n",
    "plt.title('GENDER DISTRIBUTION OF NORMAL PATIENTS', fontsize=15, weight='bold' )\n",
    "plt.show()\n",
    "\n",
    "fig = plt.figure(figsize=(15,5))\n",
    "ax1 = plt.subplot2grid((1,2),(0,0))\n",
    "sns.distplot(attr_1['age'])\n",
    "plt.title('AGE DISTRIBUTION OF HEART DISEASE PATIENTS', fontsize=15, weight='bold')\n",
    "\n",
    "ax1 = plt.subplot2grid((1,2),(0,1))\n",
    "sns.countplot(attr_1['sex'], palette='viridis')\n",
    "plt.title('GENDER DISTRIBUTION OF HEART DISEASE PATIENTS', fontsize=15, weight='bold' )\n",
    "plt.show()\n"
   ]
  },
  {
   "cell_type": "markdown",
   "id": "dc57ff75",
   "metadata": {},
   "source": [
    "Inference: Males(1) have higher cases compared to Females(0)"
   ]
  },
  {
   "cell_type": "markdown",
   "id": "ad9bb1fc",
   "metadata": {},
   "source": [
    "# Plot the relation between sex and slope."
   ]
  },
  {
   "cell_type": "code",
   "execution_count": 21,
   "id": "9aa4cf44",
   "metadata": {},
   "outputs": [
    {
     "name": "stderr",
     "output_type": "stream",
     "text": [
      "C:\\ProgramData\\Anaconda3\\lib\\site-packages\\seaborn\\_decorators.py:36: FutureWarning: Pass the following variable as a keyword arg: x. From version 0.12, the only valid positional argument will be `data`, and passing other arguments without an explicit keyword will result in an error or misinterpretation.\n",
      "  warnings.warn(\n"
     ]
    },
    {
     "data": {
      "image/png": "[encoded data removed]",
      "text/plain": [
       "<Figure size 1296x648 with 1 Axes>"
      ]
     },
     "metadata": {
      "needs_background": "light"
     },
     "output_type": "display_data"
    }
   ],
   "source": [
    "plt.figure(figsize=(18,9))\n",
    "sns.set_context('notebook',font_scale = 1.5)\n",
    "sns.countplot(dt['sex'],hue=dt[\"ST slope\"])\n",
    "plt.tight_layout()"
   ]
  },
  {
   "cell_type": "markdown",
   "id": "f5d5373b",
   "metadata": {},
   "source": [
    "Inference: Here it is clearly visible that the slope value is higher in the case of males(1)."
   ]
  },
  {
   "cell_type": "markdown",
   "id": "3271ebff",
   "metadata": {},
   "source": [
    "# Chest Pain Type(“chest pain type”) Analysis"
   ]
  },
  {
   "cell_type": "code",
   "execution_count": 22,
   "id": "2dc83449",
   "metadata": {},
   "outputs": [
    {
     "name": "stderr",
     "output_type": "stream",
     "text": [
      "C:\\ProgramData\\Anaconda3\\lib\\site-packages\\seaborn\\_decorators.py:36: FutureWarning: Pass the following variable as a keyword arg: x. From version 0.12, the only valid positional argument will be `data`, and passing other arguments without an explicit keyword will result in an error or misinterpretation.\n",
      "  warnings.warn(\n"
     ]
    },
    {
     "data": {
      "image/png": "[encoded data removed]",
      "text/plain": [
       "<Figure size 1296x648 with 1 Axes>"
      ]
     },
     "metadata": {
      "needs_background": "light"
     },
     "output_type": "display_data"
    }
   ],
   "source": [
    "plt.figure(figsize=(18,9))\n",
    "sns.set_context('notebook',font_scale = 1.5)\n",
    "sns.countplot(dt['chest pain type'])\n",
    "plt.tight_layout()"
   ]
  },
  {
   "cell_type": "markdown",
   "id": "12f0a5b1",
   "metadata": {},
   "source": [
    "Inference: As seen, there are 4 types of chest pain\n",
    "\n",
    "1. status at least\n",
    "2. condition slightly distressed\n",
    "3. condition medium problem\n",
    "4. condition too bad"
   ]
  },
  {
   "cell_type": "code",
   "execution_count": 23,
   "id": "9c99620d",
   "metadata": {},
   "outputs": [
    {
     "data": {
      "image/png": "[encoded data removed]",
      "text/plain": [
       "<Figure size 720x288 with 1 Axes>"
      ]
     },
     "metadata": {
      "needs_background": "light"
     },
     "output_type": "display_data"
    },
    {
     "data": {
      "image/png": "[encoded data removed]",
      "text/plain": [
       "<Figure size 720x288 with 1 Axes>"
      ]
     },
     "metadata": {
      "needs_background": "light"
     },
     "output_type": "display_data"
    }
   ],
   "source": [
    "fig, ax = plt.subplots(figsize=(10,4))\n",
    "\n",
    "# Horizontal Bar Plot\n",
    "title_cnt=dt['chest pain type'].value_counts().sort_values(ascending=False).reset_index()\n",
    "mn= ax.barh(title_cnt.iloc[:,0], title_cnt.iloc[:,1], color='silver')\n",
    "mn[0].set_color('lightskyblue')\n",
    "mn[3].set_color('crimson')\n",
    "\n",
    "\n",
    "# Remove axes splines\n",
    "for s in ['top','bottom','left','right']:\n",
    "    ax.spines[s].set_visible(False)\n",
    "\n",
    "# Remove x,y Ticks\n",
    "ax.xaxis.set_ticks_position('none')\n",
    "ax.yaxis.set_ticks_position('none')\n",
    "\n",
    "# Add padding between axes and labels\n",
    "ax.xaxis.set_tick_params(pad=5)\n",
    "ax.yaxis.set_tick_params(pad=10)\n",
    "\n",
    "# Add x,y gridlines\n",
    "ax.grid(b=True, color='grey', linestyle='-.', linewidth=1, alpha=0.4)\n",
    "\n",
    "# Show top values \n",
    "ax.invert_yaxis()\n",
    "\n",
    "# Add Plot Title\n",
    "ax.set_title('Chest Pain type Distribution',\n",
    "             loc='center', pad=10, fontsize=16)\n",
    "plt.yticks(weight='bold')\n",
    "\n",
    "\n",
    "# Add annotation to bars\n",
    "for i in ax.patches:\n",
    "    ax.text(i.get_width()+10, i.get_y()+0.5, str(round((i.get_width()), 2)),\n",
    "            fontsize=10, fontweight='bold', color='grey')\n",
    "plt.yticks(weight='bold')\n",
    "plt.xticks(weight='bold')\n",
    "# Show Plot\n",
    "plt.show()\n",
    "\n",
    "\n",
    "fig, ax = plt.subplots(figsize=(10,4))\n",
    "\n",
    "# Horizontal Bar Plot\n",
    "title_cnt=attr_1['chest pain type'].value_counts().sort_values(ascending=False).reset_index()\n",
    "mn= ax.barh(title_cnt.iloc[:,0], title_cnt.iloc[:,1], color='silver')\n",
    "mn[0].set_color('red')\n",
    "mn[3].set_color('blue')\n",
    "\n",
    "\n",
    "# Remove axes splines\n",
    "for s in ['top','bottom','left','right']:\n",
    "    ax.spines[s].set_visible(False)\n",
    "\n",
    "# Remove x,y Ticks\n",
    "ax.xaxis.set_ticks_position('none')\n",
    "ax.yaxis.set_ticks_position('none')\n",
    "\n",
    "# Add padding between axes and labels\n",
    "ax.xaxis.set_tick_params(pad=5)\n",
    "ax.yaxis.set_tick_params(pad=10)\n",
    "\n",
    "# Add x,y gridlines\n",
    "ax.grid(b=True, color='grey', linestyle='-.', linewidth=1, alpha=0.4)\n",
    "\n",
    "# Show top values \n",
    "ax.invert_yaxis()\n",
    "\n",
    "# Add Plot Title\n",
    "ax.set_title('Chest Pain type Distribution of Heart patients',\n",
    "             loc='center', pad=10, fontsize=16)\n",
    "plt.yticks(weight='bold')\n",
    "\n",
    "\n",
    "# Add annotation to bars\n",
    "for i in ax.patches:\n",
    "    ax.text(i.get_width()+10, i.get_y()+0.5, str(round((i.get_width()), 2)),\n",
    "            fontsize=10, fontweight='bold', color='grey')\n",
    "plt.yticks(weight='bold')\n",
    "plt.xticks(weight='bold')\n",
    "# Show Plot\n",
    "plt.show()"
   ]
  },
  {
   "cell_type": "markdown",
   "id": "333fbbda",
   "metadata": {},
   "source": [
    "Analyzing chest pain type vs target column"
   ]
  },
  {
   "cell_type": "code",
   "execution_count": 24,
   "id": "324c4502",
   "metadata": {},
   "outputs": [
    {
     "name": "stderr",
     "output_type": "stream",
     "text": [
      "C:\\ProgramData\\Anaconda3\\lib\\site-packages\\seaborn\\_decorators.py:36: FutureWarning: Pass the following variable as a keyword arg: x. From version 0.12, the only valid positional argument will be `data`, and passing other arguments without an explicit keyword will result in an error or misinterpretation.\n",
      "  warnings.warn(\n"
     ]
    },
    {
     "data": {
      "image/png": "[encoded data removed]",
      "text/plain": [
       "<Figure size 1296x648 with 1 Axes>"
      ]
     },
     "metadata": {
      "needs_background": "light"
     },
     "output_type": "display_data"
    }
   ],
   "source": [
    "plt.figure(figsize=(18,9))\n",
    "sns.set_context('notebook',font_scale = 1.5)\n",
    "sns.countplot(dt['chest pain type'],hue=dt[\"target\"])\n",
    "plt.tight_layout()"
   ]
  },
  {
   "cell_type": "markdown",
   "id": "5a5bf88d",
   "metadata": {},
   "source": [
    "Inference: From the above graph we can make some inferences,\n",
    "\n",
    "People having the least chest pain are not likely to have heart disease.\n",
    "\n",
    "People having severe chest pain are likely to have heart disease.\n",
    "\n",
    "Elderly people are more likely to have chest pain."
   ]
  },
  {
   "cell_type": "markdown",
   "id": "0bda09c0",
   "metadata": {},
   "source": [
    "# Fasting blood sugar Analysis"
   ]
  },
  {
   "cell_type": "code",
   "execution_count": 30,
   "id": "f053f1ef",
   "metadata": {},
   "outputs": [
    {
     "data": {
      "image/png": "[encoded data removed]",
      "text/plain": [
       "<Figure size 720x288 with 1 Axes>"
      ]
     },
     "metadata": {
      "needs_background": "light"
     },
     "output_type": "display_data"
    },
    {
     "data": {
      "image/png": "[encoded data removed]",
      "text/plain": [
       "<Figure size 720x288 with 1 Axes>"
      ]
     },
     "metadata": {
      "needs_background": "light"
     },
     "output_type": "display_data"
    }
   ],
   "source": [
    "\n",
    "fig, ax = plt.subplots(figsize=(10,4))\n",
    "\n",
    "# Horizontal Bar Plot\n",
    "title_cnt=dt['fasting blood sugar'].value_counts().sort_values(ascending=False).reset_index()\n",
    "mn= ax.barh(title_cnt.iloc[:,0], title_cnt.iloc[:,1], color='silver')\n",
    "mn[0].set_color('lightskyblue')\n",
    "mn[1].set_color('crimson')\n",
    "\n",
    "\n",
    "# Remove axes splines\n",
    "for s in ['top','bottom','left','right']:\n",
    "    ax.spines[s].set_visible(False)\n",
    "\n",
    "# Remove x,y Ticks\n",
    "ax.xaxis.set_ticks_position('none')\n",
    "ax.yaxis.set_ticks_position('none')\n",
    "\n",
    "# Add padding between axes and labels\n",
    "ax.xaxis.set_tick_params(pad=5)\n",
    "ax.yaxis.set_tick_params(pad=10)\n",
    "\n",
    "# Add x,y gridlines\n",
    "ax.grid(b=True, color='grey', linestyle='-.', linewidth=1, alpha=0.4)\n",
    "\n",
    "# Show top values \n",
    "ax.invert_yaxis()\n",
    "\n",
    "# Add Plot Title\n",
    "ax.set_title('Fasting blood sugar Distribution',\n",
    "             loc='center', pad=10, fontsize=16)\n",
    "plt.yticks(weight='bold')\n",
    "\n",
    "\n",
    "# Add annotation to bars\n",
    "for i in ax.patches:\n",
    "    ax.text(i.get_width()+10, i.get_y()+0.5, str(round((i.get_width()), 2)),\n",
    "            fontsize=10, fontweight='bold', color='grey')\n",
    "plt.yticks(weight='bold')\n",
    "plt.xticks(weight='bold')\n",
    "# Show Plot\n",
    "plt.show()\n",
    "\n",
    "\n",
    "fig, ax = plt.subplots(figsize=(10,4))\n",
    "\n",
    "# Horizontal Bar Plot\n",
    "title_cnt=attr_1['fasting blood sugar'].value_counts().sort_values(ascending=False).reset_index()\n",
    "mn= ax.barh(title_cnt.iloc[:,0], title_cnt.iloc[:,1], color='silver')\n",
    "mn[0].set_color('red')\n",
    "mn[1].set_color('blue')\n",
    "\n",
    "\n",
    "# Remove axes splines\n",
    "for s in ['top','bottom','left','right']:\n",
    "    ax.spines[s].set_visible(False)\n",
    "\n",
    "# Remove x,y Ticks\n",
    "ax.xaxis.set_ticks_position('none')\n",
    "ax.yaxis.set_ticks_position('none')\n",
    "\n",
    "# Add padding between axes and labels\n",
    "ax.xaxis.set_tick_params(pad=5)\n",
    "ax.yaxis.set_tick_params(pad=10)\n",
    "\n",
    "# Add x,y gridlines\n",
    "ax.grid(b=True, color='grey', linestyle='-.', linewidth=1, alpha=0.4)\n",
    "\n",
    "# Show top values \n",
    "ax.invert_yaxis()\n",
    "\n",
    "# Add Plot Title\n",
    "ax.set_title('Fasting blood sugar Distribution of Heart patients',\n",
    "             loc='center', pad=10, fontsize=16)\n",
    "plt.yticks(weight='bold')\n",
    "\n",
    "\n",
    "# Add annotation to bars\n",
    "for i in ax.patches:\n",
    "    ax.text(i.get_width()+10, i.get_y()+0.5, str(round((i.get_width()), 2)),\n",
    "            fontsize=10, fontweight='bold', color='grey')\n",
    "plt.yticks(weight='bold')\n",
    "plt.xticks(weight='bold')\n",
    "# Show Plot\n",
    "plt.show()"
   ]
  },
  {
   "cell_type": "markdown",
   "id": "ff438184",
   "metadata": {},
   "source": [
    "# Resting ECG Analysis"
   ]
  },
  {
   "cell_type": "code",
   "execution_count": 34,
   "id": "af8a8caf",
   "metadata": {},
   "outputs": [
    {
     "data": {
      "image/png": "[encoded data removed]",
      "text/plain": [
       "<Figure size 720x288 with 1 Axes>"
      ]
     },
     "metadata": {
      "needs_background": "light"
     },
     "output_type": "display_data"
    },
    {
     "data": {
      "image/png": "[encoded data removed]",
      "text/plain": [
       "<Figure size 720x288 with 1 Axes>"
      ]
     },
     "metadata": {
      "needs_background": "light"
     },
     "output_type": "display_data"
    }
   ],
   "source": [
    "fig, ax = plt.subplots(figsize=(10,4))\n",
    "\n",
    "# Horizontal Bar Plot\n",
    "title_cnt=dt['resting ecg'].value_counts().sort_values(ascending=False).reset_index()\n",
    "mn= ax.barh(title_cnt.iloc[:,0], title_cnt.iloc[:,1], color='silver')\n",
    "mn[0].set_color('lightskyblue')\n",
    "mn[2].set_color('crimson')\n",
    "\n",
    "\n",
    "# Remove axes splines\n",
    "for s in ['top','bottom','left','right']:\n",
    "    ax.spines[s].set_visible(False)\n",
    "\n",
    "# Remove x,y Ticks\n",
    "ax.xaxis.set_ticks_position('none')\n",
    "ax.yaxis.set_ticks_position('none')\n",
    "\n",
    "# Add padding between axes and labels\n",
    "ax.xaxis.set_tick_params(pad=5)\n",
    "ax.yaxis.set_tick_params(pad=10)\n",
    "\n",
    "# Add x,y gridlines\n",
    "ax.grid(b=True, color='grey', linestyle='-.', linewidth=1, alpha=0.4)\n",
    "\n",
    "# Show top values \n",
    "ax.invert_yaxis()\n",
    "\n",
    "# Add Plot Title\n",
    "ax.set_title('Rest ECG Distribution',\n",
    "             loc='center', pad=10, fontsize=16)\n",
    "plt.yticks(weight='bold')\n",
    "\n",
    "\n",
    "# Add annotation to bars\n",
    "for i in ax.patches:\n",
    "    ax.text(i.get_width()+10, i.get_y()+0.5, str(round((i.get_width()), 2)),\n",
    "            fontsize=10, fontweight='bold', color='grey')\n",
    "plt.yticks(weight='bold')\n",
    "plt.xticks(weight='bold')\n",
    "# Show Plot\n",
    "plt.show()\n",
    "\n",
    "\n",
    "fig, ax = plt.subplots(figsize=(10,4))\n",
    "\n",
    "# Horizontal Bar Plot\n",
    "title_cnt=attr_1['resting ecg'].value_counts().sort_values(ascending=False).reset_index()\n",
    "mn= ax.barh(title_cnt.iloc[:,0], title_cnt.iloc[:,1], color='silver')\n",
    "mn[0].set_color('red')\n",
    "mn[2].set_color('blue')\n",
    "\n",
    "\n",
    "# Remove axes splines\n",
    "for s in ['top','bottom','left','right']:\n",
    "    ax.spines[s].set_visible(False)\n",
    "\n",
    "# Remove x,y Ticks\n",
    "ax.xaxis.set_ticks_position('none')\n",
    "ax.yaxis.set_ticks_position('none')\n",
    "\n",
    "# Add padding between axes and labels\n",
    "ax.xaxis.set_tick_params(pad=5)\n",
    "ax.yaxis.set_tick_params(pad=10)\n",
    "\n",
    "# Add x,y gridlines\n",
    "ax.grid(b=True, color='grey', linestyle='-.', linewidth=1, alpha=0.4)\n",
    "\n",
    "# Show top values \n",
    "ax.invert_yaxis()\n",
    "\n",
    "# Add Plot Title\n",
    "ax.set_title('Rest ECG Distribution of Heart patients',\n",
    "             loc='center', pad=10, fontsize=16)\n",
    "plt.yticks(weight='bold')\n",
    "\n",
    "\n",
    "# Add annotation to bars\n",
    "for i in ax.patches:\n",
    "    ax.text(i.get_width()+10, i.get_y()+0.5, str(round((i.get_width()), 2)),\n",
    "            fontsize=10, fontweight='bold', color='grey')\n",
    "plt.yticks(weight='bold')\n",
    "plt.xticks(weight='bold')\n",
    "# Show Plot\n",
    "plt.show()\n"
   ]
  },
  {
   "cell_type": "markdown",
   "id": "9980c74d",
   "metadata": {},
   "source": [
    "# ST Slope Analysis"
   ]
  },
  {
   "cell_type": "code",
   "execution_count": 35,
   "id": "8a2dce38",
   "metadata": {},
   "outputs": [
    {
     "data": {
      "image/png": "[encoded data removed]",
      "text/plain": [
       "<Figure size 720x288 with 1 Axes>"
      ]
     },
     "metadata": {
      "needs_background": "light"
     },
     "output_type": "display_data"
    },
    {
     "data": {
      "image/png": "[encoded data removed]",
      "text/plain": [
       "<Figure size 720x288 with 1 Axes>"
      ]
     },
     "metadata": {
      "needs_background": "light"
     },
     "output_type": "display_data"
    }
   ],
   "source": [
    "fig, ax = plt.subplots(figsize=(10,4))\n",
    "\n",
    "# Horizontal Bar Plot\n",
    "title_cnt=dt['ST slope'].value_counts().sort_values(ascending=False).reset_index()\n",
    "mn= ax.barh(title_cnt.iloc[:,0], title_cnt.iloc[:,1], color='silver')\n",
    "mn[0].set_color('lightskyblue')\n",
    "mn[3].set_color('crimson')\n",
    "\n",
    "\n",
    "# Remove axes splines\n",
    "for s in ['top','bottom','left','right']:\n",
    "    ax.spines[s].set_visible(False)\n",
    "\n",
    "# Remove x,y Ticks\n",
    "ax.xaxis.set_ticks_position('none')\n",
    "ax.yaxis.set_ticks_position('none')\n",
    "\n",
    "# Add padding between axes and labels\n",
    "ax.xaxis.set_tick_params(pad=5)\n",
    "ax.yaxis.set_tick_params(pad=10)\n",
    "\n",
    "# Add x,y gridlines\n",
    "ax.grid(b=True, color='grey', linestyle='-.', linewidth=1, alpha=0.4)\n",
    "\n",
    "# Show top values \n",
    "ax.invert_yaxis()\n",
    "\n",
    "# Add Plot Title\n",
    "ax.set_title('ST Slope Distribution',\n",
    "             loc='center', pad=10, fontsize=16)\n",
    "plt.yticks(weight='bold')\n",
    "\n",
    "\n",
    "# Add annotation to bars\n",
    "for i in ax.patches:\n",
    "    ax.text(i.get_width()+10, i.get_y()+0.5, str(round((i.get_width()), 2)),\n",
    "            fontsize=10, fontweight='bold', color='grey')\n",
    "plt.yticks(weight='bold')\n",
    "plt.xticks(weight='bold')\n",
    "# Show Plot\n",
    "plt.show()\n",
    "\n",
    "\n",
    "fig, ax = plt.subplots(figsize=(10,4))\n",
    "\n",
    "# Horizontal Bar Plot\n",
    "title_cnt=attr_1['ST slope'].value_counts().sort_values(ascending=False).reset_index()\n",
    "mn= ax.barh(title_cnt.iloc[:,0], title_cnt.iloc[:,1], color='silver')\n",
    "mn[0].set_color('red')\n",
    "mn[3].set_color('blue')\n",
    "\n",
    "\n",
    "# Remove axes splines\n",
    "for s in ['top','bottom','left','right']:\n",
    "    ax.spines[s].set_visible(False)\n",
    "\n",
    "# Remove x,y Ticks\n",
    "ax.xaxis.set_ticks_position('none')\n",
    "ax.yaxis.set_ticks_position('none')\n",
    "\n",
    "# Add padding between axes and labels\n",
    "ax.xaxis.set_tick_params(pad=5)\n",
    "ax.yaxis.set_tick_params(pad=10)\n",
    "\n",
    "# Add x,y gridlines\n",
    "ax.grid(b=True, color='grey', linestyle='-.', linewidth=1, alpha=0.4)\n",
    "\n",
    "# Show top values \n",
    "ax.invert_yaxis()\n",
    "\n",
    "# Add Plot Title\n",
    "ax.set_title('ST Slope Distribution of Heart patients',\n",
    "             loc='center', pad=10, fontsize=16)\n",
    "plt.yticks(weight='bold')\n",
    "\n",
    "\n",
    "# Add annotation to bars\n",
    "for i in ax.patches:\n",
    "    ax.text(i.get_width()+10, i.get_y()+0.5, str(round((i.get_width()), 2)),\n",
    "            fontsize=10, fontweight='bold', color='grey')\n",
    "plt.yticks(weight='bold')\n",
    "plt.xticks(weight='bold')\n",
    "# Show Plot\n",
    "plt.show()"
   ]
  },
  {
   "cell_type": "markdown",
   "id": "d588b138",
   "metadata": {},
   "source": [
    "# Target Analysis"
   ]
  },
  {
   "cell_type": "code",
   "execution_count": 36,
   "id": "2e919462",
   "metadata": {},
   "outputs": [
    {
     "data": {
      "text/plain": [
       "1    629\n",
       "0    561\n",
       "Name: target, dtype: int64"
      ]
     },
     "execution_count": 36,
     "metadata": {},
     "output_type": "execute_result"
    }
   ],
   "source": [
    "dt['target'].value_counts()"
   ]
  },
  {
   "cell_type": "code",
   "execution_count": 37,
   "id": "3a2a812d",
   "metadata": {},
   "outputs": [
    {
     "data": {
      "text/html": [
       "<div>\n",
       "<style scoped>\n",
       "    .dataframe tbody tr th:only-of-type {\n",
       "        vertical-align: middle;\n",
       "    }\n",
       "\n",
       "    .dataframe tbody tr th {\n",
       "        vertical-align: top;\n",
       "    }\n",
       "\n",
       "    .dataframe thead th {\n",
       "        text-align: right;\n",
       "    }\n",
       "</style>\n",
       "<table border=\"1\" class=\"dataframe\">\n",
       "  <thead>\n",
       "    <tr style=\"text-align: right;\">\n",
       "      <th></th>\n",
       "      <th>age</th>\n",
       "      <th>resting bp s</th>\n",
       "      <th>cholesterol</th>\n",
       "      <th>fasting blood sugar</th>\n",
       "      <th>max heart rate</th>\n",
       "      <th>exercise angina</th>\n",
       "      <th>oldpeak</th>\n",
       "    </tr>\n",
       "    <tr>\n",
       "      <th>target</th>\n",
       "      <th></th>\n",
       "      <th></th>\n",
       "      <th></th>\n",
       "      <th></th>\n",
       "      <th></th>\n",
       "      <th></th>\n",
       "      <th></th>\n",
       "    </tr>\n",
       "  </thead>\n",
       "  <tbody>\n",
       "    <tr>\n",
       "      <th>0</th>\n",
       "      <td>51.124777</td>\n",
       "      <td>129.793226</td>\n",
       "      <td>231.657754</td>\n",
       "      <td>0.119430</td>\n",
       "      <td>150.894831</td>\n",
       "      <td>0.139037</td>\n",
       "      <td>0.464706</td>\n",
       "    </tr>\n",
       "    <tr>\n",
       "      <th>1</th>\n",
       "      <td>56.034976</td>\n",
       "      <td>134.259141</td>\n",
       "      <td>191.372019</td>\n",
       "      <td>0.297297</td>\n",
       "      <td>129.777424</td>\n",
       "      <td>0.608903</td>\n",
       "      <td>1.331320</td>\n",
       "    </tr>\n",
       "  </tbody>\n",
       "</table>\n",
       "</div>"
      ],
      "text/plain": [
       "              age  resting bp s  cholesterol  fasting blood sugar  \\\n",
       "target                                                              \n",
       "0       51.124777    129.793226   231.657754             0.119430   \n",
       "1       56.034976    134.259141   191.372019             0.297297   \n",
       "\n",
       "        max heart rate  exercise angina   oldpeak  \n",
       "target                                             \n",
       "0           150.894831         0.139037  0.464706  \n",
       "1           129.777424         0.608903  1.331320  "
      ]
     },
     "execution_count": 37,
     "metadata": {},
     "output_type": "execute_result"
    }
   ],
   "source": [
    "dt.groupby('target').mean()"
   ]
  },
  {
   "cell_type": "code",
   "execution_count": 38,
   "id": "897d1bb6",
   "metadata": {},
   "outputs": [
    {
     "name": "stderr",
     "output_type": "stream",
     "text": [
      "C:\\ProgramData\\Anaconda3\\lib\\site-packages\\seaborn\\_decorators.py:36: FutureWarning: Pass the following variable as a keyword arg: x. From version 0.12, the only valid positional argument will be `data`, and passing other arguments without an explicit keyword will result in an error or misinterpretation.\n",
      "  warnings.warn(\n"
     ]
    },
    {
     "data": {
      "image/png": "[encoded data removed]",
      "text/plain": [
       "<Figure size 1296x648 with 1 Axes>"
      ]
     },
     "metadata": {
      "needs_background": "light"
     },
     "output_type": "display_data"
    }
   ],
   "source": [
    "plt.figure(figsize=(18,9))\n",
    "sns.set_context('notebook',font_scale = 1.5)\n",
    "sns.countplot(dt['target'])\n",
    "plt.tight_layout()"
   ]
  },
  {
   "cell_type": "markdown",
   "id": "07ae548e",
   "metadata": {},
   "source": [
    "Inference: The ratio between 1 and 0 is much less than 1.5 which indicates that the target feature is not imbalanced. So for a balanced dataset, we can use accuracy_score as evaluation metrics for our model."
   ]
  },
  {
   "cell_type": "markdown",
   "id": "417e96da",
   "metadata": {},
   "source": [
    "# Feature Engineering"
   ]
  },
  {
   "cell_type": "code",
   "execution_count": 39,
   "id": "18fddd15",
   "metadata": {},
   "outputs": [
    {
     "name": "stdout",
     "output_type": "stream",
     "text": [
      "--------------------\n",
      "age : [40 49 37 48 54 39 45 58 42 38 43 60 36 44 53 52 51 56 41 32 65 35 59 50\n",
      " 47 31 46 57 55 63 66 34 33 61 29 62 28 30 74 68 72 64 69 67 73 70 77 75\n",
      " 76 71]\n",
      "--------------------\n",
      "sex : [1 0]\n",
      "--------------------\n",
      "chest pain type : [2 3 4 1]\n",
      "--------------------\n",
      "resting bp s : [140 160 130 138 150 120 110 136 115 100 124 113 125 145 112 132 118 170\n",
      " 142 190 135 180 108 155 128 106  92 200 122  98 105 133  95  80 137 185\n",
      " 165 126 152 116   0 144 154 134 104 139 131 141 178 146 158 123 102  96\n",
      " 143 172 156 114 127 101 174  94 148 117 192 129 164]\n",
      "--------------------\n",
      "cholesterol : [289 180 283 214 195 339 237 208 207 284 211 164 204 234 273 196 201 248\n",
      " 267 223 184 288 215 209 260 468 188 518 167 224 172 186 254 306 250 177\n",
      " 227 230 294 264 259 175 318 216 340 233 205 245 194 270 213 365 342 253\n",
      " 277 202 297 225 246 412 265 182 218 268 163 529 100 206 238 139 263 291\n",
      " 229 307 210 329 147  85 269 275 179 392 466 129 241 255 276 282 338 160\n",
      " 156 272 240 393 161 228 292 388 166 247 331 341 243 279 198 249 168 603\n",
      " 159 190 185 290 212 231 222 235 320 187 266 287 404 312 251 328 285 280\n",
      " 192 193 308 219 257 132 226 217 303 298 256 117 295 173 315 281 309 200\n",
      " 336 355 326 171 491 271 274 394 221 126 305 220 242 347 344 358 169 181\n",
      "   0 236 203 153 316 311 252 458 384 258 349 142 197 113 261 310 232 110\n",
      " 123 170 369 152 244 165 337 300 333 385 322 564 239 293 407 149 199 417\n",
      " 178 319 354 330 302 313 141 327 304 286 360 262 325 299 409 174 183 321\n",
      " 353 335 278 157 176 131]\n",
      "--------------------\n",
      "fasting blood sugar : [0 1]\n",
      "--------------------\n",
      "resting ecg : [0 1 2]\n",
      "--------------------\n",
      "max heart rate : [172 156  98 108 122 170 142 130 120  99 145 140 137 150 166 165 125 160\n",
      " 164 138 178 112 118 127 114 154 155  87 148 100 168 184 121 153 134  96\n",
      " 174 175 144  82 135 115 128 116  94 110  92 180 152 124 106 185 139 190\n",
      " 146 158 132 176 119 188 162 105  90 136 167 129 102 143 103  91 126  93\n",
      " 131 149 123 182 141  77 109 133 179 113 104  95  72  97 117  86  63 157\n",
      "  83  60  70 163  67  78  84 111  80 107 161  69  88  73 159 151 181 186\n",
      " 177 173 169 171 147  71 192 195 194 187 202]\n",
      "--------------------\n",
      "exercise angina : [0 1]\n",
      "--------------------\n",
      "oldpeak : [ 0.   1.   1.5  2.   3.   4.   0.5  2.5  5.   0.8  0.7  1.4  2.1  0.4\n",
      "  0.2  1.7  2.2  0.1  1.6  1.3  0.3  1.8  2.6 -0.9  2.8 -2.6 -1.5 -0.1\n",
      "  0.9  1.1  2.4 -1.  -1.1 -0.7 -0.8  3.7  1.2 -0.5 -2.   1.9  3.5  0.6\n",
      "  3.1  2.3  3.4  3.6  4.2  3.2  5.6  3.8  2.9  6.2  4.4]\n",
      "--------------------\n",
      "ST slope : [1 2 3 0]\n",
      "--------------------\n",
      "target : [0 1]\n"
     ]
    }
   ],
   "source": [
    "categorical_val = []\n",
    "continous_val = []\n",
    "for column in data.columns:\n",
    "    print(\"--------------------\")\n",
    "    print(f\"{column} : {data[column].unique()}\")\n",
    "    if len(data[column].unique()) <= 10:\n",
    "        categorical_val.append(column)\n",
    "    else:\n",
    "        continous_val.append(column)"
   ]
  },
  {
   "cell_type": "markdown",
   "id": "671ef775",
   "metadata": {},
   "source": [
    "Now here first we will be removing the target column from our set of features, \n",
    "\n",
    "then we will categorize all the categorical variables using the get dummies method which will create a separate column for each category suppose X variable contains 2 types of unique values,\n",
    "\n",
    "then it will create 2 different columns for the X variable."
   ]
  },
  {
   "cell_type": "code",
   "execution_count": 40,
   "id": "7cc5b5cb",
   "metadata": {},
   "outputs": [
    {
     "data": {
      "text/html": [
       "<div>\n",
       "<style scoped>\n",
       "    .dataframe tbody tr th:only-of-type {\n",
       "        vertical-align: middle;\n",
       "    }\n",
       "\n",
       "    .dataframe tbody tr th {\n",
       "        vertical-align: top;\n",
       "    }\n",
       "\n",
       "    .dataframe thead th {\n",
       "        text-align: right;\n",
       "    }\n",
       "</style>\n",
       "<table border=\"1\" class=\"dataframe\">\n",
       "  <thead>\n",
       "    <tr style=\"text-align: right;\">\n",
       "      <th></th>\n",
       "      <th>age</th>\n",
       "      <th>resting bp s</th>\n",
       "      <th>cholesterol</th>\n",
       "      <th>max heart rate</th>\n",
       "      <th>oldpeak</th>\n",
       "      <th>target</th>\n",
       "      <th>sex_0</th>\n",
       "      <th>sex_1</th>\n",
       "      <th>chest pain type_1</th>\n",
       "      <th>chest pain type_2</th>\n",
       "      <th>...</th>\n",
       "      <th>fasting blood sugar_1</th>\n",
       "      <th>resting ecg_0</th>\n",
       "      <th>resting ecg_1</th>\n",
       "      <th>resting ecg_2</th>\n",
       "      <th>exercise angina_0</th>\n",
       "      <th>exercise angina_1</th>\n",
       "      <th>ST slope_0</th>\n",
       "      <th>ST slope_1</th>\n",
       "      <th>ST slope_2</th>\n",
       "      <th>ST slope_3</th>\n",
       "    </tr>\n",
       "  </thead>\n",
       "  <tbody>\n",
       "    <tr>\n",
       "      <th>0</th>\n",
       "      <td>40</td>\n",
       "      <td>140</td>\n",
       "      <td>289</td>\n",
       "      <td>172</td>\n",
       "      <td>0.0</td>\n",
       "      <td>0</td>\n",
       "      <td>0</td>\n",
       "      <td>1</td>\n",
       "      <td>0</td>\n",
       "      <td>1</td>\n",
       "      <td>...</td>\n",
       "      <td>0</td>\n",
       "      <td>1</td>\n",
       "      <td>0</td>\n",
       "      <td>0</td>\n",
       "      <td>1</td>\n",
       "      <td>0</td>\n",
       "      <td>0</td>\n",
       "      <td>1</td>\n",
       "      <td>0</td>\n",
       "      <td>0</td>\n",
       "    </tr>\n",
       "    <tr>\n",
       "      <th>1</th>\n",
       "      <td>49</td>\n",
       "      <td>160</td>\n",
       "      <td>180</td>\n",
       "      <td>156</td>\n",
       "      <td>1.0</td>\n",
       "      <td>1</td>\n",
       "      <td>1</td>\n",
       "      <td>0</td>\n",
       "      <td>0</td>\n",
       "      <td>0</td>\n",
       "      <td>...</td>\n",
       "      <td>0</td>\n",
       "      <td>1</td>\n",
       "      <td>0</td>\n",
       "      <td>0</td>\n",
       "      <td>1</td>\n",
       "      <td>0</td>\n",
       "      <td>0</td>\n",
       "      <td>0</td>\n",
       "      <td>1</td>\n",
       "      <td>0</td>\n",
       "    </tr>\n",
       "    <tr>\n",
       "      <th>2</th>\n",
       "      <td>37</td>\n",
       "      <td>130</td>\n",
       "      <td>283</td>\n",
       "      <td>98</td>\n",
       "      <td>0.0</td>\n",
       "      <td>0</td>\n",
       "      <td>0</td>\n",
       "      <td>1</td>\n",
       "      <td>0</td>\n",
       "      <td>1</td>\n",
       "      <td>...</td>\n",
       "      <td>0</td>\n",
       "      <td>0</td>\n",
       "      <td>1</td>\n",
       "      <td>0</td>\n",
       "      <td>1</td>\n",
       "      <td>0</td>\n",
       "      <td>0</td>\n",
       "      <td>1</td>\n",
       "      <td>0</td>\n",
       "      <td>0</td>\n",
       "    </tr>\n",
       "    <tr>\n",
       "      <th>3</th>\n",
       "      <td>48</td>\n",
       "      <td>138</td>\n",
       "      <td>214</td>\n",
       "      <td>108</td>\n",
       "      <td>1.5</td>\n",
       "      <td>1</td>\n",
       "      <td>1</td>\n",
       "      <td>0</td>\n",
       "      <td>0</td>\n",
       "      <td>0</td>\n",
       "      <td>...</td>\n",
       "      <td>0</td>\n",
       "      <td>1</td>\n",
       "      <td>0</td>\n",
       "      <td>0</td>\n",
       "      <td>0</td>\n",
       "      <td>1</td>\n",
       "      <td>0</td>\n",
       "      <td>0</td>\n",
       "      <td>1</td>\n",
       "      <td>0</td>\n",
       "    </tr>\n",
       "    <tr>\n",
       "      <th>4</th>\n",
       "      <td>54</td>\n",
       "      <td>150</td>\n",
       "      <td>195</td>\n",
       "      <td>122</td>\n",
       "      <td>0.0</td>\n",
       "      <td>0</td>\n",
       "      <td>0</td>\n",
       "      <td>1</td>\n",
       "      <td>0</td>\n",
       "      <td>0</td>\n",
       "      <td>...</td>\n",
       "      <td>0</td>\n",
       "      <td>1</td>\n",
       "      <td>0</td>\n",
       "      <td>0</td>\n",
       "      <td>1</td>\n",
       "      <td>0</td>\n",
       "      <td>0</td>\n",
       "      <td>1</td>\n",
       "      <td>0</td>\n",
       "      <td>0</td>\n",
       "    </tr>\n",
       "    <tr>\n",
       "      <th>5</th>\n",
       "      <td>39</td>\n",
       "      <td>120</td>\n",
       "      <td>339</td>\n",
       "      <td>170</td>\n",
       "      <td>0.0</td>\n",
       "      <td>0</td>\n",
       "      <td>0</td>\n",
       "      <td>1</td>\n",
       "      <td>0</td>\n",
       "      <td>0</td>\n",
       "      <td>...</td>\n",
       "      <td>0</td>\n",
       "      <td>1</td>\n",
       "      <td>0</td>\n",
       "      <td>0</td>\n",
       "      <td>1</td>\n",
       "      <td>0</td>\n",
       "      <td>0</td>\n",
       "      <td>1</td>\n",
       "      <td>0</td>\n",
       "      <td>0</td>\n",
       "    </tr>\n",
       "  </tbody>\n",
       "</table>\n",
       "<p>6 rows × 23 columns</p>\n",
       "</div>"
      ],
      "text/plain": [
       "   age  resting bp s  cholesterol  max heart rate  oldpeak  target  sex_0  \\\n",
       "0   40           140          289             172      0.0       0      0   \n",
       "1   49           160          180             156      1.0       1      1   \n",
       "2   37           130          283              98      0.0       0      0   \n",
       "3   48           138          214             108      1.5       1      1   \n",
       "4   54           150          195             122      0.0       0      0   \n",
       "5   39           120          339             170      0.0       0      0   \n",
       "\n",
       "   sex_1  chest pain type_1  chest pain type_2  ...  fasting blood sugar_1  \\\n",
       "0      1                  0                  1  ...                      0   \n",
       "1      0                  0                  0  ...                      0   \n",
       "2      1                  0                  1  ...                      0   \n",
       "3      0                  0                  0  ...                      0   \n",
       "4      1                  0                  0  ...                      0   \n",
       "5      1                  0                  0  ...                      0   \n",
       "\n",
       "   resting ecg_0  resting ecg_1  resting ecg_2  exercise angina_0  \\\n",
       "0              1              0              0                  1   \n",
       "1              1              0              0                  1   \n",
       "2              0              1              0                  1   \n",
       "3              1              0              0                  0   \n",
       "4              1              0              0                  1   \n",
       "5              1              0              0                  1   \n",
       "\n",
       "   exercise angina_1  ST slope_0  ST slope_1  ST slope_2  ST slope_3  \n",
       "0                  0           0           1           0           0  \n",
       "1                  0           0           0           1           0  \n",
       "2                  0           0           1           0           0  \n",
       "3                  1           0           0           1           0  \n",
       "4                  0           0           1           0           0  \n",
       "5                  0           0           1           0           0  \n",
       "\n",
       "[6 rows x 23 columns]"
      ]
     },
     "execution_count": 40,
     "metadata": {},
     "output_type": "execute_result"
    }
   ],
   "source": [
    "categorical_val.remove('target')\n",
    "dfs = pd.get_dummies(data, columns = categorical_val)\n",
    "\n",
    "dfs.head(6)"
   ]
  },
  {
   "cell_type": "markdown",
   "id": "036e356b",
   "metadata": {},
   "source": [
    "Now we will be using the standard scaler method to scale down the data so that it won’t raise the outliers also dataset which is scaled to general units leads to having better accuracy.\n",
    "\n"
   ]
  },
  {
   "cell_type": "code",
   "execution_count": 41,
   "id": "f9755341",
   "metadata": {},
   "outputs": [
    {
     "data": {
      "text/html": [
       "<div>\n",
       "<style scoped>\n",
       "    .dataframe tbody tr th:only-of-type {\n",
       "        vertical-align: middle;\n",
       "    }\n",
       "\n",
       "    .dataframe tbody tr th {\n",
       "        vertical-align: top;\n",
       "    }\n",
       "\n",
       "    .dataframe thead th {\n",
       "        text-align: right;\n",
       "    }\n",
       "</style>\n",
       "<table border=\"1\" class=\"dataframe\">\n",
       "  <thead>\n",
       "    <tr style=\"text-align: right;\">\n",
       "      <th></th>\n",
       "      <th>age</th>\n",
       "      <th>resting bp s</th>\n",
       "      <th>cholesterol</th>\n",
       "      <th>max heart rate</th>\n",
       "      <th>oldpeak</th>\n",
       "      <th>target</th>\n",
       "      <th>sex_0</th>\n",
       "      <th>sex_1</th>\n",
       "      <th>chest pain type_1</th>\n",
       "      <th>chest pain type_2</th>\n",
       "      <th>...</th>\n",
       "      <th>fasting blood sugar_1</th>\n",
       "      <th>resting ecg_0</th>\n",
       "      <th>resting ecg_1</th>\n",
       "      <th>resting ecg_2</th>\n",
       "      <th>exercise angina_0</th>\n",
       "      <th>exercise angina_1</th>\n",
       "      <th>ST slope_0</th>\n",
       "      <th>ST slope_1</th>\n",
       "      <th>ST slope_2</th>\n",
       "      <th>ST slope_3</th>\n",
       "    </tr>\n",
       "  </thead>\n",
       "  <tbody>\n",
       "    <tr>\n",
       "      <th>0</th>\n",
       "      <td>-1.466728</td>\n",
       "      <td>0.427328</td>\n",
       "      <td>0.775674</td>\n",
       "      <td>1.265039</td>\n",
       "      <td>-0.849792</td>\n",
       "      <td>0</td>\n",
       "      <td>0</td>\n",
       "      <td>1</td>\n",
       "      <td>0</td>\n",
       "      <td>1</td>\n",
       "      <td>...</td>\n",
       "      <td>0</td>\n",
       "      <td>1</td>\n",
       "      <td>0</td>\n",
       "      <td>0</td>\n",
       "      <td>1</td>\n",
       "      <td>0</td>\n",
       "      <td>0</td>\n",
       "      <td>1</td>\n",
       "      <td>0</td>\n",
       "      <td>0</td>\n",
       "    </tr>\n",
       "    <tr>\n",
       "      <th>1</th>\n",
       "      <td>-0.504600</td>\n",
       "      <td>1.516587</td>\n",
       "      <td>-0.299512</td>\n",
       "      <td>0.637758</td>\n",
       "      <td>0.071119</td>\n",
       "      <td>1</td>\n",
       "      <td>1</td>\n",
       "      <td>0</td>\n",
       "      <td>0</td>\n",
       "      <td>0</td>\n",
       "      <td>...</td>\n",
       "      <td>0</td>\n",
       "      <td>1</td>\n",
       "      <td>0</td>\n",
       "      <td>0</td>\n",
       "      <td>1</td>\n",
       "      <td>0</td>\n",
       "      <td>0</td>\n",
       "      <td>0</td>\n",
       "      <td>1</td>\n",
       "      <td>0</td>\n",
       "    </tr>\n",
       "    <tr>\n",
       "      <th>2</th>\n",
       "      <td>-1.787437</td>\n",
       "      <td>-0.117301</td>\n",
       "      <td>0.716489</td>\n",
       "      <td>-1.636136</td>\n",
       "      <td>-0.849792</td>\n",
       "      <td>0</td>\n",
       "      <td>0</td>\n",
       "      <td>1</td>\n",
       "      <td>0</td>\n",
       "      <td>1</td>\n",
       "      <td>...</td>\n",
       "      <td>0</td>\n",
       "      <td>0</td>\n",
       "      <td>1</td>\n",
       "      <td>0</td>\n",
       "      <td>1</td>\n",
       "      <td>0</td>\n",
       "      <td>0</td>\n",
       "      <td>1</td>\n",
       "      <td>0</td>\n",
       "      <td>0</td>\n",
       "    </tr>\n",
       "    <tr>\n",
       "      <th>3</th>\n",
       "      <td>-0.611503</td>\n",
       "      <td>0.318402</td>\n",
       "      <td>0.035867</td>\n",
       "      <td>-1.244085</td>\n",
       "      <td>0.531575</td>\n",
       "      <td>1</td>\n",
       "      <td>1</td>\n",
       "      <td>0</td>\n",
       "      <td>0</td>\n",
       "      <td>0</td>\n",
       "      <td>...</td>\n",
       "      <td>0</td>\n",
       "      <td>1</td>\n",
       "      <td>0</td>\n",
       "      <td>0</td>\n",
       "      <td>0</td>\n",
       "      <td>1</td>\n",
       "      <td>0</td>\n",
       "      <td>0</td>\n",
       "      <td>1</td>\n",
       "      <td>0</td>\n",
       "    </tr>\n",
       "    <tr>\n",
       "      <th>4</th>\n",
       "      <td>0.029915</td>\n",
       "      <td>0.971958</td>\n",
       "      <td>-0.151550</td>\n",
       "      <td>-0.695214</td>\n",
       "      <td>-0.849792</td>\n",
       "      <td>0</td>\n",
       "      <td>0</td>\n",
       "      <td>1</td>\n",
       "      <td>0</td>\n",
       "      <td>0</td>\n",
       "      <td>...</td>\n",
       "      <td>0</td>\n",
       "      <td>1</td>\n",
       "      <td>0</td>\n",
       "      <td>0</td>\n",
       "      <td>1</td>\n",
       "      <td>0</td>\n",
       "      <td>0</td>\n",
       "      <td>1</td>\n",
       "      <td>0</td>\n",
       "      <td>0</td>\n",
       "    </tr>\n",
       "    <tr>\n",
       "      <th>5</th>\n",
       "      <td>-1.573631</td>\n",
       "      <td>-0.661931</td>\n",
       "      <td>1.268878</td>\n",
       "      <td>1.186628</td>\n",
       "      <td>-0.849792</td>\n",
       "      <td>0</td>\n",
       "      <td>0</td>\n",
       "      <td>1</td>\n",
       "      <td>0</td>\n",
       "      <td>0</td>\n",
       "      <td>...</td>\n",
       "      <td>0</td>\n",
       "      <td>1</td>\n",
       "      <td>0</td>\n",
       "      <td>0</td>\n",
       "      <td>1</td>\n",
       "      <td>0</td>\n",
       "      <td>0</td>\n",
       "      <td>1</td>\n",
       "      <td>0</td>\n",
       "      <td>0</td>\n",
       "    </tr>\n",
       "  </tbody>\n",
       "</table>\n",
       "<p>6 rows × 23 columns</p>\n",
       "</div>"
      ],
      "text/plain": [
       "        age  resting bp s  cholesterol  max heart rate   oldpeak  target  \\\n",
       "0 -1.466728      0.427328     0.775674        1.265039 -0.849792       0   \n",
       "1 -0.504600      1.516587    -0.299512        0.637758  0.071119       1   \n",
       "2 -1.787437     -0.117301     0.716489       -1.636136 -0.849792       0   \n",
       "3 -0.611503      0.318402     0.035867       -1.244085  0.531575       1   \n",
       "4  0.029915      0.971958    -0.151550       -0.695214 -0.849792       0   \n",
       "5 -1.573631     -0.661931     1.268878        1.186628 -0.849792       0   \n",
       "\n",
       "   sex_0  sex_1  chest pain type_1  chest pain type_2  ...  \\\n",
       "0      0      1                  0                  1  ...   \n",
       "1      1      0                  0                  0  ...   \n",
       "2      0      1                  0                  1  ...   \n",
       "3      1      0                  0                  0  ...   \n",
       "4      0      1                  0                  0  ...   \n",
       "5      0      1                  0                  0  ...   \n",
       "\n",
       "   fasting blood sugar_1  resting ecg_0  resting ecg_1  resting ecg_2  \\\n",
       "0                      0              1              0              0   \n",
       "1                      0              1              0              0   \n",
       "2                      0              0              1              0   \n",
       "3                      0              1              0              0   \n",
       "4                      0              1              0              0   \n",
       "5                      0              1              0              0   \n",
       "\n",
       "   exercise angina_0  exercise angina_1  ST slope_0  ST slope_1  ST slope_2  \\\n",
       "0                  1                  0           0           1           0   \n",
       "1                  1                  0           0           0           1   \n",
       "2                  1                  0           0           1           0   \n",
       "3                  0                  1           0           0           1   \n",
       "4                  1                  0           0           1           0   \n",
       "5                  1                  0           0           1           0   \n",
       "\n",
       "   ST slope_3  \n",
       "0           0  \n",
       "1           0  \n",
       "2           0  \n",
       "3           0  \n",
       "4           0  \n",
       "5           0  \n",
       "\n",
       "[6 rows x 23 columns]"
      ]
     },
     "execution_count": 41,
     "metadata": {},
     "output_type": "execute_result"
    }
   ],
   "source": [
    "sc = StandardScaler()\n",
    "col_to_scale = ['age', 'resting bp s', 'cholesterol', 'max heart rate', 'oldpeak']\n",
    "dfs[col_to_scale] = sc.fit_transform(dfs[col_to_scale])\n",
    "dfs.head(6)"
   ]
  },
  {
   "cell_type": "markdown",
   "id": "c94ebfaf",
   "metadata": {},
   "source": [
    "# DELETE SOME ROWS FOR TESTING"
   ]
  },
  {
   "cell_type": "code",
   "execution_count": 42,
   "id": "98b570cd",
   "metadata": {},
   "outputs": [],
   "source": [
    "df_0=dfs.loc[dfs['target']==0].head(5)\n",
    "df_1=dfs.loc[dfs['target']==1].head(5)"
   ]
  },
  {
   "cell_type": "code",
   "execution_count": 43,
   "id": "ce5dc566",
   "metadata": {},
   "outputs": [
    {
     "data": {
      "text/html": [
       "<div>\n",
       "<style scoped>\n",
       "    .dataframe tbody tr th:only-of-type {\n",
       "        vertical-align: middle;\n",
       "    }\n",
       "\n",
       "    .dataframe tbody tr th {\n",
       "        vertical-align: top;\n",
       "    }\n",
       "\n",
       "    .dataframe thead th {\n",
       "        text-align: right;\n",
       "    }\n",
       "</style>\n",
       "<table border=\"1\" class=\"dataframe\">\n",
       "  <thead>\n",
       "    <tr style=\"text-align: right;\">\n",
       "      <th></th>\n",
       "      <th>age</th>\n",
       "      <th>resting bp s</th>\n",
       "      <th>cholesterol</th>\n",
       "      <th>max heart rate</th>\n",
       "      <th>oldpeak</th>\n",
       "      <th>target</th>\n",
       "      <th>sex_0</th>\n",
       "      <th>sex_1</th>\n",
       "      <th>chest pain type_1</th>\n",
       "      <th>chest pain type_2</th>\n",
       "      <th>...</th>\n",
       "      <th>fasting blood sugar_1</th>\n",
       "      <th>resting ecg_0</th>\n",
       "      <th>resting ecg_1</th>\n",
       "      <th>resting ecg_2</th>\n",
       "      <th>exercise angina_0</th>\n",
       "      <th>exercise angina_1</th>\n",
       "      <th>ST slope_0</th>\n",
       "      <th>ST slope_1</th>\n",
       "      <th>ST slope_2</th>\n",
       "      <th>ST slope_3</th>\n",
       "    </tr>\n",
       "  </thead>\n",
       "  <tbody>\n",
       "    <tr>\n",
       "      <th>1</th>\n",
       "      <td>-0.504600</td>\n",
       "      <td>1.516587</td>\n",
       "      <td>-0.299512</td>\n",
       "      <td>0.637758</td>\n",
       "      <td>0.071119</td>\n",
       "      <td>1</td>\n",
       "      <td>1</td>\n",
       "      <td>0</td>\n",
       "      <td>0</td>\n",
       "      <td>0</td>\n",
       "      <td>...</td>\n",
       "      <td>0</td>\n",
       "      <td>1</td>\n",
       "      <td>0</td>\n",
       "      <td>0</td>\n",
       "      <td>1</td>\n",
       "      <td>0</td>\n",
       "      <td>0</td>\n",
       "      <td>0</td>\n",
       "      <td>1</td>\n",
       "      <td>0</td>\n",
       "    </tr>\n",
       "    <tr>\n",
       "      <th>3</th>\n",
       "      <td>-0.611503</td>\n",
       "      <td>0.318402</td>\n",
       "      <td>0.035867</td>\n",
       "      <td>-1.244085</td>\n",
       "      <td>0.531575</td>\n",
       "      <td>1</td>\n",
       "      <td>1</td>\n",
       "      <td>0</td>\n",
       "      <td>0</td>\n",
       "      <td>0</td>\n",
       "      <td>...</td>\n",
       "      <td>0</td>\n",
       "      <td>1</td>\n",
       "      <td>0</td>\n",
       "      <td>0</td>\n",
       "      <td>0</td>\n",
       "      <td>1</td>\n",
       "      <td>0</td>\n",
       "      <td>0</td>\n",
       "      <td>1</td>\n",
       "      <td>0</td>\n",
       "    </tr>\n",
       "    <tr>\n",
       "      <th>8</th>\n",
       "      <td>-1.787437</td>\n",
       "      <td>0.427328</td>\n",
       "      <td>-0.033181</td>\n",
       "      <td>-0.381574</td>\n",
       "      <td>0.531575</td>\n",
       "      <td>1</td>\n",
       "      <td>0</td>\n",
       "      <td>1</td>\n",
       "      <td>0</td>\n",
       "      <td>0</td>\n",
       "      <td>...</td>\n",
       "      <td>0</td>\n",
       "      <td>1</td>\n",
       "      <td>0</td>\n",
       "      <td>0</td>\n",
       "      <td>0</td>\n",
       "      <td>1</td>\n",
       "      <td>0</td>\n",
       "      <td>0</td>\n",
       "      <td>1</td>\n",
       "      <td>0</td>\n",
       "    </tr>\n",
       "    <tr>\n",
       "      <th>11</th>\n",
       "      <td>0.457527</td>\n",
       "      <td>0.209476</td>\n",
       "      <td>-0.457337</td>\n",
       "      <td>-1.596931</td>\n",
       "      <td>0.992031</td>\n",
       "      <td>1</td>\n",
       "      <td>0</td>\n",
       "      <td>1</td>\n",
       "      <td>0</td>\n",
       "      <td>1</td>\n",
       "      <td>...</td>\n",
       "      <td>0</td>\n",
       "      <td>0</td>\n",
       "      <td>1</td>\n",
       "      <td>0</td>\n",
       "      <td>0</td>\n",
       "      <td>1</td>\n",
       "      <td>0</td>\n",
       "      <td>0</td>\n",
       "      <td>1</td>\n",
       "      <td>0</td>\n",
       "    </tr>\n",
       "    <tr>\n",
       "      <th>13</th>\n",
       "      <td>-0.504600</td>\n",
       "      <td>0.427328</td>\n",
       "      <td>0.233149</td>\n",
       "      <td>0.010477</td>\n",
       "      <td>0.071119</td>\n",
       "      <td>1</td>\n",
       "      <td>0</td>\n",
       "      <td>1</td>\n",
       "      <td>0</td>\n",
       "      <td>0</td>\n",
       "      <td>...</td>\n",
       "      <td>0</td>\n",
       "      <td>1</td>\n",
       "      <td>0</td>\n",
       "      <td>0</td>\n",
       "      <td>0</td>\n",
       "      <td>1</td>\n",
       "      <td>0</td>\n",
       "      <td>0</td>\n",
       "      <td>1</td>\n",
       "      <td>0</td>\n",
       "    </tr>\n",
       "  </tbody>\n",
       "</table>\n",
       "<p>5 rows × 23 columns</p>\n",
       "</div>"
      ],
      "text/plain": [
       "         age  resting bp s  cholesterol  max heart rate   oldpeak  target  \\\n",
       "1  -0.504600      1.516587    -0.299512        0.637758  0.071119       1   \n",
       "3  -0.611503      0.318402     0.035867       -1.244085  0.531575       1   \n",
       "8  -1.787437      0.427328    -0.033181       -0.381574  0.531575       1   \n",
       "11  0.457527      0.209476    -0.457337       -1.596931  0.992031       1   \n",
       "13 -0.504600      0.427328     0.233149        0.010477  0.071119       1   \n",
       "\n",
       "    sex_0  sex_1  chest pain type_1  chest pain type_2  ...  \\\n",
       "1       1      0                  0                  0  ...   \n",
       "3       1      0                  0                  0  ...   \n",
       "8       0      1                  0                  0  ...   \n",
       "11      0      1                  0                  1  ...   \n",
       "13      0      1                  0                  0  ...   \n",
       "\n",
       "    fasting blood sugar_1  resting ecg_0  resting ecg_1  resting ecg_2  \\\n",
       "1                       0              1              0              0   \n",
       "3                       0              1              0              0   \n",
       "8                       0              1              0              0   \n",
       "11                      0              0              1              0   \n",
       "13                      0              1              0              0   \n",
       "\n",
       "    exercise angina_0  exercise angina_1  ST slope_0  ST slope_1  ST slope_2  \\\n",
       "1                   1                  0           0           0           1   \n",
       "3                   0                  1           0           0           1   \n",
       "8                   0                  1           0           0           1   \n",
       "11                  0                  1           0           0           1   \n",
       "13                  0                  1           0           0           1   \n",
       "\n",
       "    ST slope_3  \n",
       "1            0  \n",
       "3            0  \n",
       "8            0  \n",
       "11           0  \n",
       "13           0  \n",
       "\n",
       "[5 rows x 23 columns]"
      ]
     },
     "execution_count": 43,
     "metadata": {},
     "output_type": "execute_result"
    }
   ],
   "source": [
    "df_1"
   ]
  },
  {
   "cell_type": "code",
   "execution_count": 44,
   "id": "6a236b83",
   "metadata": {},
   "outputs": [],
   "source": [
    "df_1 = df_1.drop([1])\n",
    "dfs = dfs.drop([1])\n",
    "dfs = dfs.drop([3])\n",
    "dfs = dfs.drop([8])\n",
    "dfs = dfs.drop([11])\n",
    "dfs = dfs.drop([13])\n",
    "\n",
    "dfs = dfs.drop([0])\n",
    "dfs = dfs.drop([2])\n",
    "dfs = dfs.drop([4])\n",
    "dfs = dfs.drop([5])\n",
    "dfs = dfs.drop([6])"
   ]
  },
  {
   "cell_type": "code",
   "execution_count": 45,
   "id": "0f1f8a23",
   "metadata": {},
   "outputs": [],
   "source": [
    "frames=[df_0,df_1]"
   ]
  },
  {
   "cell_type": "code",
   "execution_count": 46,
   "id": "f002ea17",
   "metadata": {},
   "outputs": [],
   "source": [
    "result=pd.concat(frames)"
   ]
  },
  {
   "cell_type": "code",
   "execution_count": 47,
   "id": "70555a6d",
   "metadata": {},
   "outputs": [
    {
     "data": {
      "text/html": [
       "<div>\n",
       "<style scoped>\n",
       "    .dataframe tbody tr th:only-of-type {\n",
       "        vertical-align: middle;\n",
       "    }\n",
       "\n",
       "    .dataframe tbody tr th {\n",
       "        vertical-align: top;\n",
       "    }\n",
       "\n",
       "    .dataframe thead th {\n",
       "        text-align: right;\n",
       "    }\n",
       "</style>\n",
       "<table border=\"1\" class=\"dataframe\">\n",
       "  <thead>\n",
       "    <tr style=\"text-align: right;\">\n",
       "      <th></th>\n",
       "      <th>age</th>\n",
       "      <th>resting bp s</th>\n",
       "      <th>cholesterol</th>\n",
       "      <th>max heart rate</th>\n",
       "      <th>oldpeak</th>\n",
       "      <th>target</th>\n",
       "      <th>sex_0</th>\n",
       "      <th>sex_1</th>\n",
       "      <th>chest pain type_1</th>\n",
       "      <th>chest pain type_2</th>\n",
       "      <th>...</th>\n",
       "      <th>fasting blood sugar_1</th>\n",
       "      <th>resting ecg_0</th>\n",
       "      <th>resting ecg_1</th>\n",
       "      <th>resting ecg_2</th>\n",
       "      <th>exercise angina_0</th>\n",
       "      <th>exercise angina_1</th>\n",
       "      <th>ST slope_0</th>\n",
       "      <th>ST slope_1</th>\n",
       "      <th>ST slope_2</th>\n",
       "      <th>ST slope_3</th>\n",
       "    </tr>\n",
       "  </thead>\n",
       "  <tbody>\n",
       "    <tr>\n",
       "      <th>0</th>\n",
       "      <td>-1.466728</td>\n",
       "      <td>0.427328</td>\n",
       "      <td>0.775674</td>\n",
       "      <td>1.265039</td>\n",
       "      <td>-0.849792</td>\n",
       "      <td>0</td>\n",
       "      <td>0</td>\n",
       "      <td>1</td>\n",
       "      <td>0</td>\n",
       "      <td>1</td>\n",
       "      <td>...</td>\n",
       "      <td>0</td>\n",
       "      <td>1</td>\n",
       "      <td>0</td>\n",
       "      <td>0</td>\n",
       "      <td>1</td>\n",
       "      <td>0</td>\n",
       "      <td>0</td>\n",
       "      <td>1</td>\n",
       "      <td>0</td>\n",
       "      <td>0</td>\n",
       "    </tr>\n",
       "    <tr>\n",
       "      <th>2</th>\n",
       "      <td>-1.787437</td>\n",
       "      <td>-0.117301</td>\n",
       "      <td>0.716489</td>\n",
       "      <td>-1.636136</td>\n",
       "      <td>-0.849792</td>\n",
       "      <td>0</td>\n",
       "      <td>0</td>\n",
       "      <td>1</td>\n",
       "      <td>0</td>\n",
       "      <td>1</td>\n",
       "      <td>...</td>\n",
       "      <td>0</td>\n",
       "      <td>0</td>\n",
       "      <td>1</td>\n",
       "      <td>0</td>\n",
       "      <td>1</td>\n",
       "      <td>0</td>\n",
       "      <td>0</td>\n",
       "      <td>1</td>\n",
       "      <td>0</td>\n",
       "      <td>0</td>\n",
       "    </tr>\n",
       "    <tr>\n",
       "      <th>4</th>\n",
       "      <td>0.029915</td>\n",
       "      <td>0.971958</td>\n",
       "      <td>-0.151550</td>\n",
       "      <td>-0.695214</td>\n",
       "      <td>-0.849792</td>\n",
       "      <td>0</td>\n",
       "      <td>0</td>\n",
       "      <td>1</td>\n",
       "      <td>0</td>\n",
       "      <td>0</td>\n",
       "      <td>...</td>\n",
       "      <td>0</td>\n",
       "      <td>1</td>\n",
       "      <td>0</td>\n",
       "      <td>0</td>\n",
       "      <td>1</td>\n",
       "      <td>0</td>\n",
       "      <td>0</td>\n",
       "      <td>1</td>\n",
       "      <td>0</td>\n",
       "      <td>0</td>\n",
       "    </tr>\n",
       "    <tr>\n",
       "      <th>5</th>\n",
       "      <td>-1.573631</td>\n",
       "      <td>-0.661931</td>\n",
       "      <td>1.268878</td>\n",
       "      <td>1.186628</td>\n",
       "      <td>-0.849792</td>\n",
       "      <td>0</td>\n",
       "      <td>0</td>\n",
       "      <td>1</td>\n",
       "      <td>0</td>\n",
       "      <td>0</td>\n",
       "      <td>...</td>\n",
       "      <td>0</td>\n",
       "      <td>1</td>\n",
       "      <td>0</td>\n",
       "      <td>0</td>\n",
       "      <td>1</td>\n",
       "      <td>0</td>\n",
       "      <td>0</td>\n",
       "      <td>1</td>\n",
       "      <td>0</td>\n",
       "      <td>0</td>\n",
       "    </tr>\n",
       "    <tr>\n",
       "      <th>6</th>\n",
       "      <td>-0.932213</td>\n",
       "      <td>-0.117301</td>\n",
       "      <td>0.262741</td>\n",
       "      <td>1.186628</td>\n",
       "      <td>-0.849792</td>\n",
       "      <td>0</td>\n",
       "      <td>1</td>\n",
       "      <td>0</td>\n",
       "      <td>0</td>\n",
       "      <td>1</td>\n",
       "      <td>...</td>\n",
       "      <td>0</td>\n",
       "      <td>1</td>\n",
       "      <td>0</td>\n",
       "      <td>0</td>\n",
       "      <td>1</td>\n",
       "      <td>0</td>\n",
       "      <td>0</td>\n",
       "      <td>1</td>\n",
       "      <td>0</td>\n",
       "      <td>0</td>\n",
       "    </tr>\n",
       "    <tr>\n",
       "      <th>3</th>\n",
       "      <td>-0.611503</td>\n",
       "      <td>0.318402</td>\n",
       "      <td>0.035867</td>\n",
       "      <td>-1.244085</td>\n",
       "      <td>0.531575</td>\n",
       "      <td>1</td>\n",
       "      <td>1</td>\n",
       "      <td>0</td>\n",
       "      <td>0</td>\n",
       "      <td>0</td>\n",
       "      <td>...</td>\n",
       "      <td>0</td>\n",
       "      <td>1</td>\n",
       "      <td>0</td>\n",
       "      <td>0</td>\n",
       "      <td>0</td>\n",
       "      <td>1</td>\n",
       "      <td>0</td>\n",
       "      <td>0</td>\n",
       "      <td>1</td>\n",
       "      <td>0</td>\n",
       "    </tr>\n",
       "    <tr>\n",
       "      <th>8</th>\n",
       "      <td>-1.787437</td>\n",
       "      <td>0.427328</td>\n",
       "      <td>-0.033181</td>\n",
       "      <td>-0.381574</td>\n",
       "      <td>0.531575</td>\n",
       "      <td>1</td>\n",
       "      <td>0</td>\n",
       "      <td>1</td>\n",
       "      <td>0</td>\n",
       "      <td>0</td>\n",
       "      <td>...</td>\n",
       "      <td>0</td>\n",
       "      <td>1</td>\n",
       "      <td>0</td>\n",
       "      <td>0</td>\n",
       "      <td>0</td>\n",
       "      <td>1</td>\n",
       "      <td>0</td>\n",
       "      <td>0</td>\n",
       "      <td>1</td>\n",
       "      <td>0</td>\n",
       "    </tr>\n",
       "    <tr>\n",
       "      <th>11</th>\n",
       "      <td>0.457527</td>\n",
       "      <td>0.209476</td>\n",
       "      <td>-0.457337</td>\n",
       "      <td>-1.596931</td>\n",
       "      <td>0.992031</td>\n",
       "      <td>1</td>\n",
       "      <td>0</td>\n",
       "      <td>1</td>\n",
       "      <td>0</td>\n",
       "      <td>1</td>\n",
       "      <td>...</td>\n",
       "      <td>0</td>\n",
       "      <td>0</td>\n",
       "      <td>1</td>\n",
       "      <td>0</td>\n",
       "      <td>0</td>\n",
       "      <td>1</td>\n",
       "      <td>0</td>\n",
       "      <td>0</td>\n",
       "      <td>1</td>\n",
       "      <td>0</td>\n",
       "    </tr>\n",
       "    <tr>\n",
       "      <th>13</th>\n",
       "      <td>-0.504600</td>\n",
       "      <td>0.427328</td>\n",
       "      <td>0.233149</td>\n",
       "      <td>0.010477</td>\n",
       "      <td>0.071119</td>\n",
       "      <td>1</td>\n",
       "      <td>0</td>\n",
       "      <td>1</td>\n",
       "      <td>0</td>\n",
       "      <td>0</td>\n",
       "      <td>...</td>\n",
       "      <td>0</td>\n",
       "      <td>1</td>\n",
       "      <td>0</td>\n",
       "      <td>0</td>\n",
       "      <td>0</td>\n",
       "      <td>1</td>\n",
       "      <td>0</td>\n",
       "      <td>0</td>\n",
       "      <td>1</td>\n",
       "      <td>0</td>\n",
       "    </tr>\n",
       "  </tbody>\n",
       "</table>\n",
       "<p>9 rows × 23 columns</p>\n",
       "</div>"
      ],
      "text/plain": [
       "         age  resting bp s  cholesterol  max heart rate   oldpeak  target  \\\n",
       "0  -1.466728      0.427328     0.775674        1.265039 -0.849792       0   \n",
       "2  -1.787437     -0.117301     0.716489       -1.636136 -0.849792       0   \n",
       "4   0.029915      0.971958    -0.151550       -0.695214 -0.849792       0   \n",
       "5  -1.573631     -0.661931     1.268878        1.186628 -0.849792       0   \n",
       "6  -0.932213     -0.117301     0.262741        1.186628 -0.849792       0   \n",
       "3  -0.611503      0.318402     0.035867       -1.244085  0.531575       1   \n",
       "8  -1.787437      0.427328    -0.033181       -0.381574  0.531575       1   \n",
       "11  0.457527      0.209476    -0.457337       -1.596931  0.992031       1   \n",
       "13 -0.504600      0.427328     0.233149        0.010477  0.071119       1   \n",
       "\n",
       "    sex_0  sex_1  chest pain type_1  chest pain type_2  ...  \\\n",
       "0       0      1                  0                  1  ...   \n",
       "2       0      1                  0                  1  ...   \n",
       "4       0      1                  0                  0  ...   \n",
       "5       0      1                  0                  0  ...   \n",
       "6       1      0                  0                  1  ...   \n",
       "3       1      0                  0                  0  ...   \n",
       "8       0      1                  0                  0  ...   \n",
       "11      0      1                  0                  1  ...   \n",
       "13      0      1                  0                  0  ...   \n",
       "\n",
       "    fasting blood sugar_1  resting ecg_0  resting ecg_1  resting ecg_2  \\\n",
       "0                       0              1              0              0   \n",
       "2                       0              0              1              0   \n",
       "4                       0              1              0              0   \n",
       "5                       0              1              0              0   \n",
       "6                       0              1              0              0   \n",
       "3                       0              1              0              0   \n",
       "8                       0              1              0              0   \n",
       "11                      0              0              1              0   \n",
       "13                      0              1              0              0   \n",
       "\n",
       "    exercise angina_0  exercise angina_1  ST slope_0  ST slope_1  ST slope_2  \\\n",
       "0                   1                  0           0           1           0   \n",
       "2                   1                  0           0           1           0   \n",
       "4                   1                  0           0           1           0   \n",
       "5                   1                  0           0           1           0   \n",
       "6                   1                  0           0           1           0   \n",
       "3                   0                  1           0           0           1   \n",
       "8                   0                  1           0           0           1   \n",
       "11                  0                  1           0           0           1   \n",
       "13                  0                  1           0           0           1   \n",
       "\n",
       "    ST slope_3  \n",
       "0            0  \n",
       "2            0  \n",
       "4            0  \n",
       "5            0  \n",
       "6            0  \n",
       "3            0  \n",
       "8            0  \n",
       "11           0  \n",
       "13           0  \n",
       "\n",
       "[9 rows x 23 columns]"
      ]
     },
     "execution_count": 47,
     "metadata": {},
     "output_type": "execute_result"
    }
   ],
   "source": [
    "result"
   ]
  },
  {
   "cell_type": "code",
   "execution_count": 48,
   "id": "8de97b1d",
   "metadata": {},
   "outputs": [],
   "source": [
    "output=result['target']"
   ]
  },
  {
   "cell_type": "code",
   "execution_count": 49,
   "id": "4bdd854a",
   "metadata": {},
   "outputs": [
    {
     "data": {
      "text/plain": [
       "0     0\n",
       "2     0\n",
       "4     0\n",
       "5     0\n",
       "6     0\n",
       "3     1\n",
       "8     1\n",
       "11    1\n",
       "13    1\n",
       "Name: target, dtype: int64"
      ]
     },
     "execution_count": 49,
     "metadata": {},
     "output_type": "execute_result"
    }
   ],
   "source": [
    "output"
   ]
  },
  {
   "cell_type": "code",
   "execution_count": 50,
   "id": "27ebe52c",
   "metadata": {},
   "outputs": [],
   "source": [
    "result.drop('target',inplace=True,axis=1)"
   ]
  },
  {
   "cell_type": "code",
   "execution_count": 51,
   "id": "0b3bafbc",
   "metadata": {},
   "outputs": [
    {
     "data": {
      "text/html": [
       "<div>\n",
       "<style scoped>\n",
       "    .dataframe tbody tr th:only-of-type {\n",
       "        vertical-align: middle;\n",
       "    }\n",
       "\n",
       "    .dataframe tbody tr th {\n",
       "        vertical-align: top;\n",
       "    }\n",
       "\n",
       "    .dataframe thead th {\n",
       "        text-align: right;\n",
       "    }\n",
       "</style>\n",
       "<table border=\"1\" class=\"dataframe\">\n",
       "  <thead>\n",
       "    <tr style=\"text-align: right;\">\n",
       "      <th></th>\n",
       "      <th>age</th>\n",
       "      <th>resting bp s</th>\n",
       "      <th>cholesterol</th>\n",
       "      <th>max heart rate</th>\n",
       "      <th>oldpeak</th>\n",
       "      <th>sex_0</th>\n",
       "      <th>sex_1</th>\n",
       "      <th>chest pain type_1</th>\n",
       "      <th>chest pain type_2</th>\n",
       "      <th>chest pain type_3</th>\n",
       "      <th>...</th>\n",
       "      <th>fasting blood sugar_1</th>\n",
       "      <th>resting ecg_0</th>\n",
       "      <th>resting ecg_1</th>\n",
       "      <th>resting ecg_2</th>\n",
       "      <th>exercise angina_0</th>\n",
       "      <th>exercise angina_1</th>\n",
       "      <th>ST slope_0</th>\n",
       "      <th>ST slope_1</th>\n",
       "      <th>ST slope_2</th>\n",
       "      <th>ST slope_3</th>\n",
       "    </tr>\n",
       "  </thead>\n",
       "  <tbody>\n",
       "    <tr>\n",
       "      <th>0</th>\n",
       "      <td>-1.466728</td>\n",
       "      <td>0.427328</td>\n",
       "      <td>0.775674</td>\n",
       "      <td>1.265039</td>\n",
       "      <td>-0.849792</td>\n",
       "      <td>0</td>\n",
       "      <td>1</td>\n",
       "      <td>0</td>\n",
       "      <td>1</td>\n",
       "      <td>0</td>\n",
       "      <td>...</td>\n",
       "      <td>0</td>\n",
       "      <td>1</td>\n",
       "      <td>0</td>\n",
       "      <td>0</td>\n",
       "      <td>1</td>\n",
       "      <td>0</td>\n",
       "      <td>0</td>\n",
       "      <td>1</td>\n",
       "      <td>0</td>\n",
       "      <td>0</td>\n",
       "    </tr>\n",
       "    <tr>\n",
       "      <th>2</th>\n",
       "      <td>-1.787437</td>\n",
       "      <td>-0.117301</td>\n",
       "      <td>0.716489</td>\n",
       "      <td>-1.636136</td>\n",
       "      <td>-0.849792</td>\n",
       "      <td>0</td>\n",
       "      <td>1</td>\n",
       "      <td>0</td>\n",
       "      <td>1</td>\n",
       "      <td>0</td>\n",
       "      <td>...</td>\n",
       "      <td>0</td>\n",
       "      <td>0</td>\n",
       "      <td>1</td>\n",
       "      <td>0</td>\n",
       "      <td>1</td>\n",
       "      <td>0</td>\n",
       "      <td>0</td>\n",
       "      <td>1</td>\n",
       "      <td>0</td>\n",
       "      <td>0</td>\n",
       "    </tr>\n",
       "    <tr>\n",
       "      <th>4</th>\n",
       "      <td>0.029915</td>\n",
       "      <td>0.971958</td>\n",
       "      <td>-0.151550</td>\n",
       "      <td>-0.695214</td>\n",
       "      <td>-0.849792</td>\n",
       "      <td>0</td>\n",
       "      <td>1</td>\n",
       "      <td>0</td>\n",
       "      <td>0</td>\n",
       "      <td>1</td>\n",
       "      <td>...</td>\n",
       "      <td>0</td>\n",
       "      <td>1</td>\n",
       "      <td>0</td>\n",
       "      <td>0</td>\n",
       "      <td>1</td>\n",
       "      <td>0</td>\n",
       "      <td>0</td>\n",
       "      <td>1</td>\n",
       "      <td>0</td>\n",
       "      <td>0</td>\n",
       "    </tr>\n",
       "    <tr>\n",
       "      <th>5</th>\n",
       "      <td>-1.573631</td>\n",
       "      <td>-0.661931</td>\n",
       "      <td>1.268878</td>\n",
       "      <td>1.186628</td>\n",
       "      <td>-0.849792</td>\n",
       "      <td>0</td>\n",
       "      <td>1</td>\n",
       "      <td>0</td>\n",
       "      <td>0</td>\n",
       "      <td>1</td>\n",
       "      <td>...</td>\n",
       "      <td>0</td>\n",
       "      <td>1</td>\n",
       "      <td>0</td>\n",
       "      <td>0</td>\n",
       "      <td>1</td>\n",
       "      <td>0</td>\n",
       "      <td>0</td>\n",
       "      <td>1</td>\n",
       "      <td>0</td>\n",
       "      <td>0</td>\n",
       "    </tr>\n",
       "    <tr>\n",
       "      <th>6</th>\n",
       "      <td>-0.932213</td>\n",
       "      <td>-0.117301</td>\n",
       "      <td>0.262741</td>\n",
       "      <td>1.186628</td>\n",
       "      <td>-0.849792</td>\n",
       "      <td>1</td>\n",
       "      <td>0</td>\n",
       "      <td>0</td>\n",
       "      <td>1</td>\n",
       "      <td>0</td>\n",
       "      <td>...</td>\n",
       "      <td>0</td>\n",
       "      <td>1</td>\n",
       "      <td>0</td>\n",
       "      <td>0</td>\n",
       "      <td>1</td>\n",
       "      <td>0</td>\n",
       "      <td>0</td>\n",
       "      <td>1</td>\n",
       "      <td>0</td>\n",
       "      <td>0</td>\n",
       "    </tr>\n",
       "    <tr>\n",
       "      <th>3</th>\n",
       "      <td>-0.611503</td>\n",
       "      <td>0.318402</td>\n",
       "      <td>0.035867</td>\n",
       "      <td>-1.244085</td>\n",
       "      <td>0.531575</td>\n",
       "      <td>1</td>\n",
       "      <td>0</td>\n",
       "      <td>0</td>\n",
       "      <td>0</td>\n",
       "      <td>0</td>\n",
       "      <td>...</td>\n",
       "      <td>0</td>\n",
       "      <td>1</td>\n",
       "      <td>0</td>\n",
       "      <td>0</td>\n",
       "      <td>0</td>\n",
       "      <td>1</td>\n",
       "      <td>0</td>\n",
       "      <td>0</td>\n",
       "      <td>1</td>\n",
       "      <td>0</td>\n",
       "    </tr>\n",
       "    <tr>\n",
       "      <th>8</th>\n",
       "      <td>-1.787437</td>\n",
       "      <td>0.427328</td>\n",
       "      <td>-0.033181</td>\n",
       "      <td>-0.381574</td>\n",
       "      <td>0.531575</td>\n",
       "      <td>0</td>\n",
       "      <td>1</td>\n",
       "      <td>0</td>\n",
       "      <td>0</td>\n",
       "      <td>0</td>\n",
       "      <td>...</td>\n",
       "      <td>0</td>\n",
       "      <td>1</td>\n",
       "      <td>0</td>\n",
       "      <td>0</td>\n",
       "      <td>0</td>\n",
       "      <td>1</td>\n",
       "      <td>0</td>\n",
       "      <td>0</td>\n",
       "      <td>1</td>\n",
       "      <td>0</td>\n",
       "    </tr>\n",
       "    <tr>\n",
       "      <th>11</th>\n",
       "      <td>0.457527</td>\n",
       "      <td>0.209476</td>\n",
       "      <td>-0.457337</td>\n",
       "      <td>-1.596931</td>\n",
       "      <td>0.992031</td>\n",
       "      <td>0</td>\n",
       "      <td>1</td>\n",
       "      <td>0</td>\n",
       "      <td>1</td>\n",
       "      <td>0</td>\n",
       "      <td>...</td>\n",
       "      <td>0</td>\n",
       "      <td>0</td>\n",
       "      <td>1</td>\n",
       "      <td>0</td>\n",
       "      <td>0</td>\n",
       "      <td>1</td>\n",
       "      <td>0</td>\n",
       "      <td>0</td>\n",
       "      <td>1</td>\n",
       "      <td>0</td>\n",
       "    </tr>\n",
       "    <tr>\n",
       "      <th>13</th>\n",
       "      <td>-0.504600</td>\n",
       "      <td>0.427328</td>\n",
       "      <td>0.233149</td>\n",
       "      <td>0.010477</td>\n",
       "      <td>0.071119</td>\n",
       "      <td>0</td>\n",
       "      <td>1</td>\n",
       "      <td>0</td>\n",
       "      <td>0</td>\n",
       "      <td>0</td>\n",
       "      <td>...</td>\n",
       "      <td>0</td>\n",
       "      <td>1</td>\n",
       "      <td>0</td>\n",
       "      <td>0</td>\n",
       "      <td>0</td>\n",
       "      <td>1</td>\n",
       "      <td>0</td>\n",
       "      <td>0</td>\n",
       "      <td>1</td>\n",
       "      <td>0</td>\n",
       "    </tr>\n",
       "  </tbody>\n",
       "</table>\n",
       "<p>9 rows × 22 columns</p>\n",
       "</div>"
      ],
      "text/plain": [
       "         age  resting bp s  cholesterol  max heart rate   oldpeak  sex_0  \\\n",
       "0  -1.466728      0.427328     0.775674        1.265039 -0.849792      0   \n",
       "2  -1.787437     -0.117301     0.716489       -1.636136 -0.849792      0   \n",
       "4   0.029915      0.971958    -0.151550       -0.695214 -0.849792      0   \n",
       "5  -1.573631     -0.661931     1.268878        1.186628 -0.849792      0   \n",
       "6  -0.932213     -0.117301     0.262741        1.186628 -0.849792      1   \n",
       "3  -0.611503      0.318402     0.035867       -1.244085  0.531575      1   \n",
       "8  -1.787437      0.427328    -0.033181       -0.381574  0.531575      0   \n",
       "11  0.457527      0.209476    -0.457337       -1.596931  0.992031      0   \n",
       "13 -0.504600      0.427328     0.233149        0.010477  0.071119      0   \n",
       "\n",
       "    sex_1  chest pain type_1  chest pain type_2  chest pain type_3  ...  \\\n",
       "0       1                  0                  1                  0  ...   \n",
       "2       1                  0                  1                  0  ...   \n",
       "4       1                  0                  0                  1  ...   \n",
       "5       1                  0                  0                  1  ...   \n",
       "6       0                  0                  1                  0  ...   \n",
       "3       0                  0                  0                  0  ...   \n",
       "8       1                  0                  0                  0  ...   \n",
       "11      1                  0                  1                  0  ...   \n",
       "13      1                  0                  0                  0  ...   \n",
       "\n",
       "    fasting blood sugar_1  resting ecg_0  resting ecg_1  resting ecg_2  \\\n",
       "0                       0              1              0              0   \n",
       "2                       0              0              1              0   \n",
       "4                       0              1              0              0   \n",
       "5                       0              1              0              0   \n",
       "6                       0              1              0              0   \n",
       "3                       0              1              0              0   \n",
       "8                       0              1              0              0   \n",
       "11                      0              0              1              0   \n",
       "13                      0              1              0              0   \n",
       "\n",
       "    exercise angina_0  exercise angina_1  ST slope_0  ST slope_1  ST slope_2  \\\n",
       "0                   1                  0           0           1           0   \n",
       "2                   1                  0           0           1           0   \n",
       "4                   1                  0           0           1           0   \n",
       "5                   1                  0           0           1           0   \n",
       "6                   1                  0           0           1           0   \n",
       "3                   0                  1           0           0           1   \n",
       "8                   0                  1           0           0           1   \n",
       "11                  0                  1           0           0           1   \n",
       "13                  0                  1           0           0           1   \n",
       "\n",
       "    ST slope_3  \n",
       "0            0  \n",
       "2            0  \n",
       "4            0  \n",
       "5            0  \n",
       "6            0  \n",
       "3            0  \n",
       "8            0  \n",
       "11           0  \n",
       "13           0  \n",
       "\n",
       "[9 rows x 22 columns]"
      ]
     },
     "execution_count": 51,
     "metadata": {},
     "output_type": "execute_result"
    }
   ],
   "source": [
    "result"
   ]
  },
  {
   "cell_type": "markdown",
   "id": "f9fcd62f",
   "metadata": {},
   "source": [
    "# Modeling"
   ]
  },
  {
   "cell_type": "markdown",
   "id": "624e8430",
   "metadata": {},
   "source": [
    "Splitting our Dataset"
   ]
  },
  {
   "cell_type": "code",
   "execution_count": 52,
   "id": "2526d6e6",
   "metadata": {},
   "outputs": [],
   "source": [
    "X = dfs.drop('target', axis=1)\n",
    "y = dfs.target\n",
    "\n",
    "X_train, X_test, y_train, y_test = train_test_split(X, y, test_size=0.3, random_state=42)"
   ]
  },
  {
   "cell_type": "markdown",
   "id": "fee9ee83",
   "metadata": {},
   "source": [
    "# The KNN Machine Learning Algorithm"
   ]
  },
  {
   "cell_type": "code",
   "execution_count": 53,
   "id": "02b9a5d5",
   "metadata": {},
   "outputs": [
    {
     "name": "stdout",
     "output_type": "stream",
     "text": [
      "0.8615819209039548\n"
     ]
    }
   ],
   "source": [
    "knn = KNeighborsClassifier(n_neighbors = 10)\n",
    "knn.fit(X_train,y_train)\n",
    "y_pred1 = knn.predict(X_test)\n",
    "print(accuracy_score(y_test,y_pred1))"
   ]
  },
  {
   "cell_type": "markdown",
   "id": "ac811cf3",
   "metadata": {},
   "source": [
    "# The Random Forest Machine Learning Algorithm"
   ]
  },
  {
   "cell_type": "code",
   "execution_count": 54,
   "id": "ce13bcb6",
   "metadata": {},
   "outputs": [
    {
     "name": "stdout",
     "output_type": "stream",
     "text": [
      "0.8757062146892656\n"
     ]
    }
   ],
   "source": [
    "rf = RandomForestClassifier(n_estimators=200, max_depth=3, random_state=0)\n",
    "rf.fit(X_train,y_train)\n",
    "y_pred2 = rf.predict(X_test)\n",
    "print(accuracy_score(y_test,y_pred2))\n",
    "\n"
   ]
  },
  {
   "cell_type": "markdown",
   "id": "fe614795",
   "metadata": {},
   "source": [
    "# The Decision Tree Machine Learning Algorithm"
   ]
  },
  {
   "cell_type": "code",
   "execution_count": 55,
   "id": "e5f1c3f0",
   "metadata": {},
   "outputs": [
    {
     "name": "stdout",
     "output_type": "stream",
     "text": [
      "0.8559322033898306\n"
     ]
    }
   ],
   "source": [
    "dt = DecisionTreeClassifier(random_state=0)\n",
    "dt.fit(X_train,y_train)\n",
    "y_pred3 = dt.predict(X_test)\n",
    "print(accuracy_score(y_test,y_pred3))\n",
    "\n",
    "\n",
    "\n"
   ]
  },
  {
   "cell_type": "markdown",
   "id": "7bf67d78",
   "metadata": {},
   "source": [
    "# Conclusion on Heart Attack Prediction"
   ]
  },
  {
   "cell_type": "markdown",
   "id": "7a28bbb9",
   "metadata": {},
   "source": [
    "1. We did data visualization and data analysis of the target variable, age features, and whatnot along with its univariate analysis and bivariate analysis.\n",
    "\n",
    "2. We also did a complete feature engineering part in this article which summons all the valid steps needed for further steps i.e.\n",
    "model building.\n",
    "\n",
    "3. From the above model accuracy, RandomForest is giving us the accuracy which is 89%."
   ]
  },
  {
   "cell_type": "markdown",
   "id": "f24dc845",
   "metadata": {},
   "source": [
    "# RANDOM FOREST MODEL"
   ]
  },
  {
   "cell_type": "markdown",
   "id": "c52b4b73",
   "metadata": {},
   "source": [
    "# MODEL EVALUATION"
   ]
  },
  {
   "cell_type": "markdown",
   "id": "e11159b0",
   "metadata": {},
   "source": [
    "# 1. ACCURACY"
   ]
  },
  {
   "cell_type": "code",
   "execution_count": 56,
   "id": "c54a1564",
   "metadata": {},
   "outputs": [
    {
     "name": "stdout",
     "output_type": "stream",
     "text": [
      "RF Train_data :  0.847457627118644\n",
      "RF Validation Data :  0.8757062146892656\n"
     ]
    }
   ],
   "source": [
    "print('RF Train_data : ',rf.score(X_train,y_train))\n",
    "print('RF Validation Data : ', rf.score(X_test,y_test))"
   ]
  },
  {
   "cell_type": "code",
   "execution_count": 57,
   "id": "cce4bf55",
   "metadata": {},
   "outputs": [
    {
     "data": {
      "text/plain": [
       "array([0, 1, 1, 1, 1, 1, 0, 0, 1, 0, 1, 1, 1, 1, 0, 1, 0, 0, 0, 0, 1, 0,\n",
       "       1, 1, 1, 1, 0, 1, 1, 1, 0, 1, 1, 0, 0, 0, 0, 1, 1, 1, 1, 0, 1, 1,\n",
       "       1, 0, 1, 0, 1, 1, 0, 0, 0, 0, 1, 0, 1, 1, 0, 0, 1, 0, 1, 1, 1, 0,\n",
       "       0, 1, 1, 1, 1, 1, 1, 0, 1, 1, 1, 1, 1, 0, 1, 1, 0, 1, 0, 1, 1, 1,\n",
       "       1, 1, 1, 0, 1, 0, 1, 0, 0, 1, 0, 0, 1, 1, 0, 0, 1, 0, 0, 0, 0, 1,\n",
       "       0, 1, 0, 0, 0, 1, 0, 0, 1, 1, 0, 1, 1, 1, 1, 0, 0, 1, 1, 1, 1, 0,\n",
       "       1, 1, 1, 1, 1, 1, 1, 0, 0, 1, 0, 1, 1, 1, 1, 0, 1, 1, 0, 0, 1, 1,\n",
       "       1, 0, 0, 1, 0, 1, 1, 0, 1, 0, 1, 1, 0, 1, 1, 0, 0, 0, 0, 0, 0, 1,\n",
       "       0, 0, 0, 0, 1, 1, 1, 1, 0, 1, 0, 1, 0, 1, 1, 1, 1, 0, 1, 1, 1, 0,\n",
       "       0, 1, 0, 1, 1, 1, 1, 1, 0, 1, 1, 1, 0, 1, 1, 0, 1, 1, 0, 1, 1, 1,\n",
       "       1, 0, 0, 1, 0, 0, 0, 0, 1, 1, 1, 0, 0, 0, 1, 0, 1, 1, 1, 0, 1, 0,\n",
       "       0, 1, 1, 0, 1, 1, 0, 0, 0, 1, 0, 0, 0, 1, 1, 0, 0, 0, 1, 1, 1, 0,\n",
       "       1, 1, 0, 1, 1, 0, 1, 0, 0, 0, 1, 1, 0, 1, 1, 0, 0, 1, 0, 1, 0, 1,\n",
       "       0, 1, 1, 1, 1, 1, 1, 1, 1, 1, 0, 1, 1, 0, 1, 0, 1, 0, 1, 1, 1, 0,\n",
       "       0, 1, 1, 1, 1, 1, 1, 0, 1, 1, 1, 0, 1, 1, 0, 1, 1, 0, 0, 0, 0, 0,\n",
       "       1, 0, 1, 0, 0, 1, 1, 0, 0, 1, 0, 1, 0, 1, 1, 1, 0, 1, 0, 0, 1, 1,\n",
       "       1, 1], dtype=int64)"
      ]
     },
     "execution_count": 57,
     "metadata": {},
     "output_type": "execute_result"
    }
   ],
   "source": [
    "y_pred2"
   ]
  },
  {
   "cell_type": "markdown",
   "id": "65fbe061",
   "metadata": {},
   "source": [
    "# 2. CONFUSION MATRIX"
   ]
  },
  {
   "cell_type": "code",
   "execution_count": 58,
   "id": "09f89e2d",
   "metadata": {},
   "outputs": [
    {
     "name": "stdout",
     "output_type": "stream",
     "text": [
      "Confusion Matrix : \n",
      "[[134  31]\n",
      " [ 13 176]]\n"
     ]
    }
   ],
   "source": [
    "print('Confusion Matrix : ')\n",
    "print(confusion_matrix(y_test, y_pred2))\n",
    "\n",
    "confusion=confusion_matrix(y_test, y_pred2)"
   ]
  },
  {
   "cell_type": "code",
   "execution_count": 59,
   "id": "7f0a6032",
   "metadata": {},
   "outputs": [
    {
     "data": {
      "image/png": "[encoded data removed]",
      "text/plain": [
       "<Figure size 360x360 with 2 Axes>"
      ]
     },
     "metadata": {
      "needs_background": "light"
     },
     "output_type": "display_data"
    }
   ],
   "source": [
    "fig, ax = plt.subplots(figsize=(5,5))\n",
    "sns.heatmap(confusion, annot=True, fmt='d',\n",
    "            xticklabels=1, yticklabels=0)\n",
    "plt.ylabel('Actual')\n",
    "plt.xlabel('Predicted')\n",
    "plt.show()"
   ]
  },
  {
   "cell_type": "markdown",
   "id": "52de05cb",
   "metadata": {},
   "source": [
    "# 3. CLASSIFICATION REPORT"
   ]
  },
  {
   "cell_type": "code",
   "execution_count": 60,
   "id": "182d4d97",
   "metadata": {},
   "outputs": [
    {
     "name": "stdout",
     "output_type": "stream",
     "text": [
      "Classification Report : \n",
      "              precision    recall  f1-score   support\n",
      "\n",
      "           0       0.91      0.81      0.86       165\n",
      "           1       0.85      0.93      0.89       189\n",
      "\n",
      "    accuracy                           0.88       354\n",
      "   macro avg       0.88      0.87      0.87       354\n",
      "weighted avg       0.88      0.88      0.87       354\n",
      "\n"
     ]
    }
   ],
   "source": [
    "print('Classification Report : ')\n",
    "print(classification_report(y_test, y_pred2))"
   ]
  },
  {
   "cell_type": "markdown",
   "id": "ae77ffaf",
   "metadata": {},
   "source": [
    "# SAVE THE MODEL"
   ]
  },
  {
   "cell_type": "code",
   "execution_count": 61,
   "id": "ea704ba8",
   "metadata": {},
   "outputs": [],
   "source": [
    "import pickle\n",
    "\n",
    "pickle.dump(rf,open(r\"RFClassifier\",'wb'))"
   ]
  },
  {
   "cell_type": "markdown",
   "id": "5d7d0dd8",
   "metadata": {},
   "source": [
    "# BUILDING PREDICTIVE SYSTEM"
   ]
  },
  {
   "cell_type": "markdown",
   "id": "145a4850",
   "metadata": {},
   "source": [
    "Load the model From the disc"
   ]
  },
  {
   "cell_type": "code",
   "execution_count": 62,
   "id": "aac2f8fb",
   "metadata": {},
   "outputs": [],
   "source": [
    "import pickle\n",
    "loaded_model = pickle.load(open(r\"RFClassifier\",'rb'))"
   ]
  },
  {
   "cell_type": "code",
   "execution_count": 63,
   "id": "623e1a31",
   "metadata": {},
   "outputs": [
    {
     "data": {
      "text/plain": [
       "array([0, 0, 0, 0, 0, 1, 1, 1, 1], dtype=int64)"
      ]
     },
     "execution_count": 63,
     "metadata": {},
     "output_type": "execute_result"
    }
   ],
   "source": [
    "y_pred = loaded_model.predict(result)\n",
    "y_pred"
   ]
  },
  {
   "cell_type": "code",
   "execution_count": 64,
   "id": "9ae7bfe0",
   "metadata": {},
   "outputs": [],
   "source": [
    "y_predicted = []\n",
    "for i in range(len(y_pred)):\n",
    "    if y_pred[i] == 0:\n",
    "        y_predicted.append(\"Normal\")\n",
    "    \n",
    "    else:\n",
    "        y_predicted.append(\"Risk\")"
   ]
  },
  {
   "cell_type": "markdown",
   "id": "9b04931a",
   "metadata": {},
   "source": [
    "# PREDICTED VALUES"
   ]
  },
  {
   "cell_type": "code",
   "execution_count": 65,
   "id": "de7f0210",
   "metadata": {},
   "outputs": [
    {
     "data": {
      "text/plain": [
       "['Normal',\n",
       " 'Normal',\n",
       " 'Normal',\n",
       " 'Normal',\n",
       " 'Normal',\n",
       " 'Risk',\n",
       " 'Risk',\n",
       " 'Risk',\n",
       " 'Risk']"
      ]
     },
     "execution_count": 65,
     "metadata": {},
     "output_type": "execute_result"
    }
   ],
   "source": [
    "y_predicted"
   ]
  },
  {
   "cell_type": "markdown",
   "id": "843c7839",
   "metadata": {},
   "source": [
    "# ACTUAL VALUES"
   ]
  },
  {
   "cell_type": "code",
   "execution_count": 66,
   "id": "b78e1bbb",
   "metadata": {},
   "outputs": [
    {
     "data": {
      "text/plain": [
       "['Normal',\n",
       " 'Normal',\n",
       " 'Normal',\n",
       " 'Normal',\n",
       " 'Normal',\n",
       " 'Risk',\n",
       " 'Risk',\n",
       " 'Risk',\n",
       " 'Risk']"
      ]
     },
     "execution_count": 66,
     "metadata": {},
     "output_type": "execute_result"
    }
   ],
   "source": [
    "out_list=output.values.tolist()\n",
    "out=[]\n",
    "for i in range(len(out_list)):\n",
    "    if out_list[i] == 0:\n",
    "        out.append(\"Normal\")\n",
    "    \n",
    "    else:\n",
    "        out.append(\"Risk\")\n",
    "out"
   ]
  },
  {
   "cell_type": "code",
   "execution_count": null,
   "id": "e7b74b62",
   "metadata": {},
   "outputs": [],
   "source": []
  },
  {
   "cell_type": "code",
   "execution_count": null,
   "id": "135f2bfe",
   "metadata": {},
   "outputs": [],
   "source": []
  }
 ],
 "metadata": {
  "kernelspec": {
   "display_name": "Python 3",
   "language": "python",
   "name": "python3"
  },
  "language_info": {
   "codemirror_mode": {
    "name": "ipython",
    "version": 3
   },
   "file_extension": ".py",
   "mimetype": "text/x-python",
   "name": "python",
   "nbconvert_exporter": "python",
   "pygments_lexer": "ipython3",
   "version": "3.8.8"
  }
 },
 "nbformat": 4,
 "nbformat_minor": 5
}
